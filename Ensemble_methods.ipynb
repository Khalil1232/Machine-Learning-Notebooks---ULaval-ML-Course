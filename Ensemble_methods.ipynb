{
  "cells": [
    {
      "cell_type": "markdown",
      "metadata": {
        "id": "view-in-github",
        "colab_type": "text"
      },
      "source": [
        "<a href=\"https://colab.research.google.com/github/Khalil1232/Machine-Learning-ULaval/blob/main/Ensemble_methods.ipynb\" target=\"_parent\"><img src=\"https://colab.research.google.com/assets/colab-badge.svg\" alt=\"Open In Colab\"/></a>"
      ]
    },
    {
      "cell_type": "markdown",
      "id": "be8d571f",
      "metadata": {
        "editable": false,
        "id": "be8d571f",
        "lang": "fr",
        "tags": [
          "problem-title"
        ]
      },
      "source": [
        "# Devoir 5, Question 3 : Méthodes par ensemble"
      ]
    },
    {
      "cell_type": "markdown",
      "id": "3f84f6b9",
      "metadata": {
        "editable": false,
        "id": "3f84f6b9",
        "lang": "en"
      },
      "source": [
        "# Homework 5, Question 3: Ensemble methods"
      ]
    },
    {
      "cell_type": "markdown",
      "id": "93d29d66",
      "metadata": {
        "editable": false,
        "id": "93d29d66",
        "lang": "fr",
        "tags": [
          "problem-statement"
        ]
      },
      "source": [
        "## Code préambule"
      ]
    },
    {
      "cell_type": "markdown",
      "id": "e53a6114",
      "metadata": {
        "editable": false,
        "id": "e53a6114",
        "lang": "en",
        "tags": [
          "problem-statement"
        ]
      },
      "source": [
        "## Preamble code"
      ]
    },
    {
      "cell_type": "code",
      "execution_count": null,
      "id": "dac92316",
      "metadata": {
        "ExecuteTime": {
          "start_time": "2022-12-14T16:55:44.876Z"
        },
        "editable": false,
        "id": "dac92316",
        "tags": [
          "problem-context",
          "autoexec"
        ]
      },
      "outputs": [],
      "source": [
        "import time\n",
        "import numpy\n",
        "import warnings\n",
        "import pickle as pkl\n",
        "import io\n",
        "import pandas\n",
        "\n",
        "# Nous ne voulons pas avoir ce type d'avertissement, qui\n",
        "# n'est pas utile dans le cadre de ce devoir.\n",
        "# We do not want to have this type of warning, which\n",
        "# is not useful in the context of this assignment.\n",
        "warnings.filterwarnings(\"ignore\", category=FutureWarning)\n",
        "\n",
        "from matplotlib import pyplot\n",
        "from sklearn.ensemble import AdaBoostClassifier, RandomForestClassifier\n",
        "from sklearn.tree import DecisionTreeClassifier\n",
        "from sklearn.model_selection import train_test_split\n",
        "from sklearn.datasets import make_gaussian_quantiles, make_moons\n",
        "\n",
        "# Fonctions utilitaires liées à l'évaluation\n",
        "# Utility functions related to evaluation\n",
        "_times = []\n",
        "def checkTime(maxduration, question):\n",
        "    duration = _times[-1] - _times[-2]\n",
        "    if duration > maxduration:\n",
        "        print(\"[ATTENTION] Votre code pour la question {0} met trop de temps à s'exécuter! \".format(question)+\n",
        "            \"Le temps maximum permis est de {0:.4f} secondes, mais votre code a requis {1:.4f} secondes! \".format(maxduration,duration)+\n",
        "            \"Assurez-vous que vous ne faites pas d'appels bloquants (par exemple à show()) dans cette boucle!\")\n",
        "\n",
        "# Définition des durées d'exécution maximales pour chaque sous-question\n",
        "# Definition of maximum execution times for each sub-question\n",
        "TMAX_Q3A_1 = 60\n",
        "TMAX_Q3A_2 = 60\n",
        "TMAX_Q3C = 130\n",
        "\n",
        "# Création du jeu de données moon, utilisé pour la question\n",
        "# Creation of the moon dataset, used for the question\n",
        "X1, y1 = make_gaussian_quantiles(cov=2.2,\n",
        "                                 n_samples=600, n_features=2,\n",
        "                                 n_classes=2, random_state=42)\n",
        "X2, y2 = make_moons(n_samples=300, noise=0.25, random_state=42)\n",
        "X3, y3 = make_moons(n_samples=300, noise=0.3, random_state=42)\n",
        "X2[:, 0] -= 3.5\n",
        "X2[:, 1] += 3.5\n",
        "X3[:, 0] += 4.0\n",
        "X3[:, 1] += 2.0\n",
        "X = numpy.concatenate((X1, X2, X3))\n",
        "y = numpy.concatenate((y1, y2+2, y3+1))\n",
        "\n",
        "# Partition du jeu en entraînement/test.\n",
        "# Partition into training/testing set.\n",
        "X_train, X_test, y_train, y_test = train_test_split(X, y, test_size=0.333, random_state=42)\n",
        "\n",
        "# Pour visualiser le jeu de données\n",
        "# For visualizing the dataset\n",
        "colors = numpy.array(['#377eb8', '#ff7f00', '#4daf4a', '#f781bf', '#a65628', '#984ea3', '#999999', '#e41a1c', '#dede00'])\n",
        "pyplot.figure()\n",
        "pyplot.scatter(X[:,0][y==0], X[:,1][y==0], marker='o', s=56, c=colors[0], label=\"Classe 1\")\n",
        "pyplot.scatter(X[:,0][y==1], X[:,1][y==1], marker='x', s=56, c=colors[1], label=\"Classe 2\")\n",
        "pyplot.scatter(X[:,0][y==2], X[:,1][y==2], marker='^', s=56, c=colors[2], label=\"Classe 3\")\n",
        "pyplot.scatter(X[:,0][y==3], X[:,1][y==3], marker='s', s=56, c=colors[3], label=\"Classe 4\")\n",
        "pyplot.legend()\n",
        "pyplot.show()"
      ]
    },
    {
      "cell_type": "markdown",
      "id": "598c6b09",
      "metadata": {
        "editable": false,
        "id": "598c6b09",
        "lang": "fr"
      },
      "source": [
        "## Q3A\n",
        "Évaluer la performance d’un classifieur par ensemble basé sur *AdaBoost*, en utilisant comme classifieurs de base (*weak learners*) :\n",
        "- Des souches de décisions (arbres de décision à un seul niveau (`DecisionTreeClassifier(max_depth=1)`));\n",
        "- Des arbres de décisions à trois niveaux (`DecisionTreeClassifier(max_depth=3)`).\n",
        "\n",
        "Dans les deux cas, utilisez un maximum de 50 classifieurs de base (`n_estimators=50`). Faites votre entraînement sur le jeu de données *moons* créé dans le préambule.\n",
        "\n",
        "Pour ces deux configurations, rapportez les résultats à l’aide des figures suivantes :\n",
        "- Un graphique de la performance en entraînement et test en fonction du nombre de classifieurs de base utilisés (de 1 à 50);\n",
        "- Des figures montrant les régions de décision de l’ensemble pour différentes valeurs représentatives du nombre de classifieurs de base et les points du jeu de données. Assurez-vous d’utiliser des couleurs similaires pour les régions et les marqueurs.\n",
        "\n",
        "**Note** : les fonctions `staged_predict` et `staged_score` fournies par `AdaBoostClassifier` pourraient vous être très utiles ici pour réduire la complexité des calculs."
      ]
    },
    {
      "cell_type": "markdown",
      "id": "ec975dbd",
      "metadata": {
        "editable": false,
        "id": "ec975dbd",
        "lang": "en"
      },
      "source": [
        "## Q3A\n",
        "Evaluate the performance of an ensemble classifier based on *AdaBoost* to generate basic classifiers (*weak learners*):\n",
        "- Decision lines (one level decision trees (`DecisionTreeClassifier(max_depth=1)`));\n",
        "- Three levels decision trees(`DecisionTreeClassifier(max_depth=3)`).\n",
        "\n",
        "In both cases, use a maximum of 50 base classifiers (`n_estimators=50`). Do your training on the *moons* dataset created in the preamble.\n",
        "\n",
        "For these two configurations, report the results using the following figures:\n",
        "- A graph of the performance in training and testing according to the number of basic classifiers used (from 1 to 50);\n",
        "- Figures showing the decision regions of the set for different values representative of the number of base classifiers and the points in the dataset. Be sure to use similar colors for regions and markers.\n",
        "\n",
        "**Note**: The `staged_predict` and `staged_score` functions provided by `AdaBoostClassifier` could be very useful here to reduce the complexity of the calculations."
      ]
    },
    {
      "cell_type": "markdown",
      "id": "70e1ea33",
      "metadata": {
        "editable": false,
        "id": "70e1ea33",
        "lang": "fr",
        "tags": []
      },
      "source": [
        "### Entrez votre solution à Q3A dans la cellule suivante, en vous basant sur le patron de code donné plus bas."
      ]
    },
    {
      "cell_type": "markdown",
      "id": "9006f3f1",
      "metadata": {
        "editable": false,
        "id": "9006f3f1",
        "lang": "en",
        "tags": []
      },
      "source": [
        "### Enter your answer to Q3A in the following cell, starting from the code template given below."
      ]
    },
    {
      "cell_type": "markdown",
      "id": "4731ad77",
      "metadata": {
        "editable": false,
        "tags": [
          "feedback"
        ],
        "id": "4731ad77"
      },
      "source": [
        "<div class=\"feedback-cell\" style=\"background: rgba(100 , 100 , 100 , 0.4)\">\n",
        "                <h3>Votre soumission a été enregistrée!</h3>\n",
        "                <ul>\n",
        "                    <li>notez qu'il n'y a <strong>pas</strong> de correction automatique pour cet exercice&puncsp;;</li>\n",
        "                    <li>par conséquent, votre note est <strong>actuellement</strong> zéro&puncsp;;</li>\n",
        "                    <li>elle sera cependant ajustée par le professeur dès que la correction manuelle sera complétée&puncsp;;</li>\n",
        "                    <li>vous pouvez soumettre autant de fois que nécessaire jusqu'à la date d'échéance&puncsp;;</li>\n",
        "                    <li>mais évitez de soumettre inutilement.</li>\n",
        "                </ul>\n",
        "            </div>"
      ]
    },
    {
      "cell_type": "code",
      "execution_count": null,
      "id": "aa1f76cf",
      "metadata": {
        "deletable": false,
        "id": "aa1f76cf",
        "tags": [
          "user-answer-D5Q3A",
          "editable"
        ]
      },
      "outputs": [],
      "source": [
        "# === Souches de décision / decision stumps ===\n",
        "\n",
        "_times.append(time.time())\n",
        "\n",
        "# *** TODO ***\n",
        "# Entraînez un classifieur par ensemble de type AdaBoost sur le jeu de données (X_train, y_train)\n",
        "# défini plus haut, en utilisant des souches de décision comme classifieur de base.\n",
        "# Rapportez les résultats et figures tel que demandé dans l'énoncé, sur\n",
        "# les jeux d'entraînement et de test.\n",
        "# Train an AdaBoost ensemble classifier on the dataset (X_train, y_train) defined above, using decision\n",
        "# stumps as basic classifiers. Report the results and figures as asked in the statement, on the training\n",
        "# and testing sets.\n",
        "# ******\n",
        "\n",
        "clf = AdaBoostClassifier(base_estimator=DecisionTreeClassifier(max_depth=1), n_estimators=50, random_state=0)\n",
        "clf.fit(X_train, y_train)\n",
        "\n",
        "x_min = X[:, 0].min()\n",
        "x_max = X[:, 0].max()\n",
        "y_min = X[:, 1].min()\n",
        "y_max = X[:, 1].max()\n",
        "\n",
        "xx, yy = numpy.meshgrid(numpy.arange(x_min, x_max,0.01),numpy.arange(y_min, y_max,0.01))\n",
        "\n",
        "predict =[]\n",
        "for x in clf.staged_predict(numpy.c_[xx.ravel(), yy.ravel()]):\n",
        "    predict.append(x)\n",
        "\n",
        "train_scores =[]\n",
        "for x in clf.staged_score(X_train, y_train):\n",
        "    train_scores.append(x)\n",
        "\n",
        "test_scores = []\n",
        "for x in clf.staged_score(X_test,y_test):\n",
        "    test_scores.append(x)\n",
        "\n",
        "# Utilisez subplot pour générer les régions de décisions (50 dans l'exemple ici)\n",
        "# Use subplot to generate decision regions (50 in the example here)\n",
        "pyplot.figure(figsize=(32, 28))\n",
        "for i in range(50):\n",
        "    pyplot.subplot(8, 8, 1 + i)\n",
        "    pyplot.title(\"Entraînement : {:.2f}, validation : {:.2f}\".format(train_scores[i], test_scores[i]))\n",
        "\n",
        "    z = predict[i]\n",
        "    z = z.reshape(xx.shape)\n",
        "\n",
        "    y_predict = clf.predict(X).reshape(-1)\n",
        "\n",
        "    colors = numpy.array(['#377eb8', '#ff7f00', '#4daf4a', '#f781bf', '#a65628', '#984ea3', '#999999', '#e41a1c', '#dede00'])\n",
        "    pyplot.scatter(X[:,0][y_predict==0], X[:,1][y_predict==0], marker='o', s=56, c=colors[0], label=\"Classe 1\")\n",
        "    pyplot.scatter(X[:,0][y_predict==1], X[:,1][y_predict==1], marker='x', s=56, c=colors[1], label=\"Classe 2\")\n",
        "    pyplot.scatter(X[:,0][y_predict==2], X[:,1][y_predict==2], marker='^', s=56, c=colors[2], label=\"Classe 3\")\n",
        "    pyplot.scatter(X[:,0][y_predict==3], X[:,1][y_predict==3], marker='s', s=56, c=colors[3], label=\"Classe 4\")\n",
        "\n",
        "\n",
        "pyplot.show()\n",
        "pyplot.figure()\n",
        "\n",
        "# *** TODO ***\n",
        "# Mesurez les performances en entraînement et en test\n",
        "# en fonction du nombre de classifieurs.\n",
        "# Measure performance in training and testing\n",
        "# based on the number of classifiers.\n",
        "# ******\n",
        "\n",
        "pyplot.plot(range(50), train_scores, c=\"red\", label=\"Train\")\n",
        "pyplot.plot(range(50), test_scores, c=\"blue\", label=\"Test\")\n",
        "pyplot.legend()\n",
        "pyplot.title(\"max_depth=1\")\n",
        "\n",
        "_times.append(time.time())\n",
        "checkTime(TMAX_Q3A_1, \"3A_1\")\n",
        "pyplot.show()\n",
        "\n",
        "\n",
        "# === Arbres de décision à 3 niveau / Decision trees with 3 levels ===\n",
        "_times.append(time.time())\n",
        "\n",
        "# *** TODO ***\n",
        "# Entraînez un classifieur par ensemble de type AdaBoost sur le jeu de données (X_train, y_train)\n",
        "# défini plus haut, en utilisant des arbres de décision de profondeur 3 comme\n",
        "# classifieur de base. Rapportez les résultats et figures tel que demandé dans l'énoncé, sur\n",
        "# les jeux d'entraînement et de test.\n",
        "# Train an AdaBoost ensemble classifier on the dataset (X_train, y_train)\n",
        "# defined above, using depth 3 decision trees as the\n",
        "# basic classifiers. Report results and figures as requested in the statement, on\n",
        "# the training and test sets.\n",
        "# ******\n",
        "\n",
        "clf = AdaBoostClassifier(base_estimator=DecisionTreeClassifier(max_depth=3),n_estimators=50, random_state=0)\n",
        "clf.fit(X_train, y_train)\n",
        "\n",
        "predict =[]\n",
        "for x in clf.staged_predict(numpy.c_[xx.ravel(), yy.ravel()]):\n",
        "    predict.append(x)\n",
        "\n",
        "train_scores =[]\n",
        "for x in clf.staged_score(X_train, y_train):\n",
        "    train_scores.append(x)\n",
        "\n",
        "test_scores = []\n",
        "for x in clf.staged_score(X_test,y_test):\n",
        "    test_scores.append(x)\n",
        "\n",
        "\n",
        "# Utilisez subplot pour générer les régions de décisions (50 dans l'exemple ici)\n",
        "# Use subplot to generate decision regions (50 in the example here)\n",
        "pyplot.figure(figsize=(32, 28))\n",
        "for i in range(50):\n",
        "    pyplot.subplot(8, 8, 1 + i)\n",
        "    pyplot.title(\"train : {:.2f}, valid : {:.2f}\".format(train_scores[i], test_scores[i]))\n",
        "\n",
        "    z = predict[i]\n",
        "    z = z.reshape(xx.shape)\n",
        "\n",
        "    y_predict = clf.predict(X).reshape(-1)\n",
        "\n",
        "    colors = numpy.array(['#377eb8', '#ff7f00', '#4daf4a', '#f781bf', '#a65628', '#984ea3', '#999999', '#e41a1c', '#dede00'])\n",
        "    pyplot.scatter(X[:,0][y_predict==0], X[:,1][y_predict==0], marker='o', s=56, c=colors[0], label=\"Classe 1\")\n",
        "    pyplot.scatter(X[:,0][y_predict==1], X[:,1][y_predict==1], marker='x', s=56, c=colors[1], label=\"Classe 2\")\n",
        "    pyplot.scatter(X[:,0][y_predict==2], X[:,1][y_predict==2], marker='^', s=56, c=colors[2], label=\"Classe 3\")\n",
        "    pyplot.scatter(X[:,0][y_predict==3], X[:,1][y_predict==3], marker='s', s=56, c=colors[3], label=\"Classe 4\")\n",
        "\n",
        "\n",
        "pyplot.show()\n",
        "pyplot.figure()\n",
        "\n",
        "# *** TODO ***\n",
        "# Mesurez les performances en entraînement et en test\n",
        "# en fonction du nombre de classifieurs.\n",
        "# Measure performance in training and testing\n",
        "# based on the number of classifiers.\n",
        "# ******\n",
        "pyplot.plot(range(50), train_scores, c=\"red\", label=\"Train\")\n",
        "pyplot.plot(range(50), test_scores, c=\"blue\", label=\"Test\")\n",
        "pyplot.legend()\n",
        "pyplot.title(\"max_depth=3\")\n",
        "\n",
        "_times.append(time.time())\n",
        "checkTime(TMAX_Q3A_2, \"3A_2\")\n",
        "pyplot.show()"
      ]
    },
    {
      "cell_type": "markdown",
      "id": "8cff3176",
      "metadata": {
        "editable": false,
        "id": "8cff3176",
        "lang": "fr",
        "tags": []
      },
      "source": [
        "### Patron de code réponse à l'exercice Q3A"
      ]
    },
    {
      "cell_type": "markdown",
      "id": "14d44799",
      "metadata": {
        "editable": false,
        "id": "14d44799",
        "lang": "en",
        "tags": []
      },
      "source": [
        "### Q3A answer code template"
      ]
    },
    {
      "cell_type": "code",
      "execution_count": null,
      "id": "2c5bacc3",
      "metadata": {
        "editable": false,
        "id": "2c5bacc3",
        "tags": []
      },
      "outputs": [],
      "source": [
        "# === Souches de décision / decision stumps ===\n",
        "\n",
        "_times.append(time.time())\n",
        "\n",
        "# *** TODO ***\n",
        "# Entraînez un classifieur par ensemble de type AdaBoost sur le jeu de données (X_train, y_train)\n",
        "# défini plus haut, en utilisant des souches de décision comme classifieur de base.\n",
        "# Rapportez les résultats et figures tel que demandé dans l'énoncé, sur\n",
        "# les jeux d'entraînement et de test.\n",
        "# Train an AdaBoost ensemble classifier on the dataset (X_train, y_train) defined above, using decision\n",
        "# stumps as basic classifiers. Report the results and figures as asked in the statement, on the training\n",
        "# and testing sets.\n",
        "# ******\n",
        "\n",
        "# Utilisez subplot pour générer les régions de décisions (50 dans l'exemple ici)\n",
        "# Use subplot to generate decision regions (50 in the example here)\n",
        "pyplot.figure(figsize=(32, 28))\n",
        "for i in range(50):\n",
        "    pyplot.subplot(8, 8, 1 + i)\n",
        "    pyplot.title(\"Entraînement : {:.2f}, validation : {:.2f}\".format(0.0, 0.0))\n",
        "\n",
        "pyplot.show()\n",
        "pyplot.figure()\n",
        "\n",
        "# *** TODO ***\n",
        "# Mesurez les performances en entraînement et en test\n",
        "# en fonction du nombre de classifieurs.\n",
        "# Measure performance in training and testing\n",
        "# based on the number of classifiers.\n",
        "# ******\n",
        "\n",
        "_times.append(time.time())\n",
        "checkTime(TMAX_Q3A_1, \"3A_1\")\n",
        "pyplot.show()\n",
        "\n",
        "\n",
        "# === Arbres de décision à 3 niveau / Decision trees with 3 levels ===\n",
        "_times.append(time.time())\n",
        "\n",
        "# *** TODO ***\n",
        "# Entraînez un classifieur par ensemble de type AdaBoost sur le jeu de données (X_train, y_train)\n",
        "# défini plus haut, en utilisant des arbres de décision de profondeur 3 comme\n",
        "# classifieur de base. Rapportez les résultats et figures tel que demandé dans l'énoncé, sur\n",
        "# les jeux d'entraînement et de test.\n",
        "# Train an AdaBoost ensemble classifier on the dataset (X_train, y_train)\n",
        "# defined above, using depth 3 decision trees as the\n",
        "# basic classifiers. Report results and figures as requested in the statement, on\n",
        "# the training and test sets.\n",
        "# ******\n",
        "\n",
        "# Utilisez subplot pour générer les régions de décisions (50 dans l'exemple ici)\n",
        "# Use subplot to generate decision regions (50 in the example here)\n",
        "pyplot.figure(figsize=(32, 28))\n",
        "for i in range(50):\n",
        "    pyplot.subplot(8, 8, 1 + i)\n",
        "    pyplot.title(\"train : {:.2f}, valid : {:.2f}\".format(0.0, 0.0))\n",
        "\n",
        "pyplot.show()\n",
        "pyplot.figure()\n",
        "\n",
        "# *** TODO ***\n",
        "# Mesurez les performances en entraînement et en test\n",
        "# en fonction du nombre de classifieurs.\n",
        "# Measure performance in training and testing\n",
        "# based on the number of classifiers.\n",
        "# ******\n",
        "\n",
        "_times.append(time.time())\n",
        "checkTime(TMAX_Q3A_2, \"3A_2\")\n",
        "pyplot.show()"
      ]
    },
    {
      "cell_type": "markdown",
      "id": "8699cfbe",
      "metadata": {
        "editable": false,
        "id": "8699cfbe",
        "lang": "fr"
      },
      "source": [
        "## Q3B\n",
        "En guise d'analyse des résultats obtenus à Q3A, veuillez répondre aux points suivants:\n",
        "1. Expliquez si les classifieurs de type souches de décisions sont appropriés pour ce genre de problème.\n",
        "2. Donnez le nombre de classifieurs qui apparaît optimal pour ce jeu de données.\n",
        "3. Expliquez pourquoi il existe, en fin d’apprentissage, des zones de l’espace de recherche ne comportant que des exemples d’une classe en entraînement, mais faisant néanmoins partie des régions de décision d’autres classes."
      ]
    },
    {
      "cell_type": "markdown",
      "id": "bdbdaa1f",
      "metadata": {
        "editable": false,
        "id": "bdbdaa1f",
        "lang": "en"
      },
      "source": [
        "## Q3B\n",
        "To analyze the results obtained in Q3A, please respond to the following:\n",
        "1. Explain whether decision stump classifiers are appropriate for this type of problem.\n",
        "2. Give the number of classifiers that appears optimal for this dataset.\n",
        "3. Explain why there are areas of the search space at the end of training that have only examples of one class in training, but are nevertheless part of the decision regions of other classes."
      ]
    },
    {
      "cell_type": "markdown",
      "id": "9b702888",
      "metadata": {
        "editable": false,
        "id": "9b702888",
        "lang": "fr",
        "tags": []
      },
      "source": [
        "### Entrez votre solution à Q3B dans la cellule ci-dessous"
      ]
    },
    {
      "cell_type": "markdown",
      "id": "b95399ec",
      "metadata": {
        "editable": false,
        "id": "b95399ec",
        "lang": "en",
        "tags": []
      },
      "source": [
        "### Enter your solution to Q3B in the cell below"
      ]
    },
    {
      "cell_type": "markdown",
      "id": "e357f2b0",
      "metadata": {
        "deletable": false,
        "id": "e357f2b0",
        "tags": [
          "user-answer-D5Q3B",
          "editable"
        ]
      },
      "source": [
        "1. Expliquez si les classifieurs de type souches de décisions sont appropriés pour ce genre de problème. / Explain whether decision stump classifiers are appropriate for this type of problem.\n",
        "Non, puisque les zones de décisions ne sont pas bien séparées(il y'a certains chevauchements).\n",
        "\n",
        "2. Donnez le nombre de classifieurs qui apparaît optimal pour ce jeu de données. / Give the number of classifiers that appears optimal for this dataset.\n",
        "40\n",
        "\n",
        "3. Expliquez pourquoi il existe, en fin d’apprentissage, des zones de l’espace de recherche ne comportant que des exemples d’une classe en entraînement, mais faisant néanmoins partie des régions de décision d’autres classes. / Explain why there are areas of the search space at the end of training that have only examples of one class in training, but are nevertheless part of the decision regions of other classes.\n",
        "C'est à cause du surapprentissage."
      ]
    },
    {
      "cell_type": "markdown",
      "id": "be614650",
      "metadata": {
        "editable": false,
        "id": "be614650",
        "lang": "fr",
        "tags": []
      },
      "source": [
        "### Patron de réponse de Q3B en format markdown\n",
        "~~~md\n",
        "1. Expliquez si les classifieurs de type souches de décisions sont appropriés pour ce genre de problème.\n",
        "***Donnez ici vos explications au point 1***\n",
        "\n",
        "2. Donnez le nombre de classifieurs qui apparaît optimal pour ce jeu de données.\n",
        "***Donnez ici vos explications au point 2***\n",
        "\n",
        "3. Expliquez pourquoi il existe, en fin d’apprentissage, des zones de l’espace de recherche ne comportant que des exemples d’une classe en entraînement, mais faisant néanmoins partie des régions de décision d’autres classes.\n",
        "***Donnez ici vos explications au point 3***\n",
        "~~~"
      ]
    },
    {
      "cell_type": "markdown",
      "id": "5130c099",
      "metadata": {
        "editable": false,
        "id": "5130c099",
        "lang": "en",
        "tags": []
      },
      "source": [
        "### Q3B Markdown answer template\n",
        "~~~md\n",
        "1. Explain whether decision stump classifiers are appropriate for this type of problem.\n",
        "***Give here your explanations to point 1***\n",
        "\n",
        "2. Give the number of classifiers that appears optimal for this dataset.\n",
        "***Give here your explanations to point 2***\n",
        "\n",
        "3. Explain why there are areas of the search space at the end of training that have only examples of one class in training, but are nevertheless part of the decision regions of other classes.\n",
        "***Give here your explanations to point 3***\n",
        "~~~"
      ]
    },
    {
      "cell_type": "markdown",
      "id": "79c20658",
      "metadata": {
        "editable": false,
        "id": "79c20658",
        "lang": "fr"
      },
      "source": [
        "## Q3C\n",
        "Utilisez maintenant une *forêt aléatoire* (*Random Forest*) avec 50 classifieurs de base (`RandomForestClassifier(n_estimators=50)`) entraîné sur le jeu moons défini dans le préambule.\n",
        "\n",
        "Faites varier la profondeur maximale des arbres de décision de 1 à 12 inclusivement. Produisez une figure montrant la performance en entraînement et test en fonction de la profondeur maximale utilisée, ainsi que quatre figures des régions de décision pour des profondeurs de {1, 4, 8, 12}."
      ]
    },
    {
      "cell_type": "markdown",
      "id": "ba72e93b",
      "metadata": {
        "editable": false,
        "id": "ba72e93b",
        "lang": "en"
      },
      "source": [
        "## Q3C\n",
        "Now use a *Random Forest* with 50 base classifiers (` RandomForestClassifier (n_estimators = 50) `), trained on the moons dataset defined in the preamble.\n",
        "\n",
        "Vary the maximum depth of the decision trees from 1 to 12 inclusively. Produce a figure showing performance in training and testing as a function of maximum depth used, as well as four figures of decision regions for depths of {1, 4, 8, 12}."
      ]
    },
    {
      "cell_type": "markdown",
      "id": "f6dcdf89",
      "metadata": {
        "editable": false,
        "id": "f6dcdf89",
        "lang": "fr",
        "tags": []
      },
      "source": [
        "### Entrez votre solution à Q3C dans la cellule suivante, en vous basant sur le patron de code donné plus bas."
      ]
    },
    {
      "cell_type": "markdown",
      "id": "2edcf5da",
      "metadata": {
        "editable": false,
        "id": "2edcf5da",
        "lang": "en",
        "tags": []
      },
      "source": [
        "### Enter your answer to Q3C in the following cell, starting from the code template given below."
      ]
    },
    {
      "cell_type": "code",
      "execution_count": null,
      "id": "5cfe3721",
      "metadata": {
        "deletable": false,
        "id": "5cfe3721",
        "tags": [
          "user-answer-D5Q3C",
          "editable"
        ]
      },
      "outputs": [],
      "source": [
        "# *** TODO ***\n",
        "# Entraînez un classifieur par ensemble de type Random Forest sur le jeu de données moons.\n",
        "# Train a Random Forest ensemble classifier on the moons dataset.\n",
        "# ******\n",
        "\n",
        "clf = RandomForestClassifier(n_estimators=50, random_state=0)\n",
        "clf.fit(X_train, y_train)\n",
        "\n",
        "_times.append(time.time())\n",
        "pyplot.figure(figsize=(28, 28))\n",
        "plot_dmax = [1, 4, 8, 12]\n",
        "plot_count = 0\n",
        "train_scores = []\n",
        "test_scores = []\n",
        "\n",
        "\n",
        "for dmax in range(1, 13):\n",
        "    scoreTrain = 0.0\n",
        "    scoreTest = 0.0\n",
        "\n",
        "    # *** TODO ***\n",
        "    # Produisez quatre figures des régions de décision pour des profondeurs d'arbres de {1, 4, 8, 12}\n",
        "    # Produce four figures of decision regions for tree depths of {1, 4, 8, 12}\n",
        "    # ******\n",
        "    clf.set_params(max_depth=dmax)\n",
        "    clf.fit(X_train, y_train)\n",
        "\n",
        "    scoreTrain = clf.score(X_train, y_train)\n",
        "    scoreTest = clf.score(X_test, y_test)\n",
        "\n",
        "    if dmax in plot_dmax:\n",
        "        pyplot.subplot(2, 2, 1 + plot_count)\n",
        "        plot_count += 1\n",
        "        pyplot.title(\"dmax : {}, train : {:.4f}, valid : {:.4f}\".format(dmax, scoreTrain, scoreTest))\n",
        "\n",
        "        z = clf.predict(numpy.c_[xx.ravel(), yy.ravel()])\n",
        "\n",
        "        z = z.reshape(xx.shape)\n",
        "\n",
        "        y_predict = clf.predict(X).reshape(-1)\n",
        "\n",
        "        colors = numpy.array(['#377eb8', '#ff7f00', '#4daf4a', '#f781bf', '#a65628', '#984ea3', '#999999', '#e41a1c', '#dede00'])\n",
        "        pyplot.scatter(X[:,0][y_predict==0], X[:,1][y_predict==0], marker='o', s=56, c=colors[0], label=\"Classe 1\")\n",
        "        pyplot.scatter(X[:,0][y_predict==1], X[:,1][y_predict==1], marker='x', s=56, c=colors[1], label=\"Classe 2\")\n",
        "        pyplot.scatter(X[:,0][y_predict==2], X[:,1][y_predict==2], marker='^', s=56, c=colors[2], label=\"Classe 3\")\n",
        "        pyplot.scatter(X[:,0][y_predict==3], X[:,1][y_predict==3], marker='s', s=56, c=colors[3], label=\"Classe 4\")\n",
        "\n",
        "    train_scores.append(scoreTrain)\n",
        "    test_scores.append(scoreTest)\n",
        "\n",
        "pyplot.show()\n",
        "pyplot.figure()\n",
        "\n",
        "# *** TODO ***\n",
        "# Produisez une figure montrant la performance en entraînement et test en fonction de la profondeur maximale utilisée.\n",
        "# Produce a figure showing training and test performance as a function of maximum depth used.\n",
        "# ******\n",
        "\n",
        "pyplot.plot(range(1,13), train_scores, c=\"red\", label=\"Train\")\n",
        "pyplot.plot(range(1,13), test_scores, c=\"blue\", label=\"Test\")\n",
        "pyplot.legend()\n",
        "pyplot.title(\"Profondeur 1---->12\")\n",
        "\n",
        "_times.append(time.time())\n",
        "checkTime(TMAX_Q3C, \"3C\")\n",
        "pyplot.show()"
      ]
    },
    {
      "cell_type": "markdown",
      "id": "33935dcb",
      "metadata": {
        "editable": false,
        "id": "33935dcb",
        "lang": "fr",
        "tags": []
      },
      "source": [
        "### Patron de code réponse à l'exercice Q3C"
      ]
    },
    {
      "cell_type": "markdown",
      "id": "955b9cee",
      "metadata": {
        "editable": false,
        "id": "955b9cee",
        "lang": "en",
        "tags": []
      },
      "source": [
        "### Q3C answer code template"
      ]
    },
    {
      "cell_type": "code",
      "execution_count": null,
      "id": "a6a30e9f",
      "metadata": {
        "editable": false,
        "id": "a6a30e9f",
        "tags": []
      },
      "outputs": [],
      "source": [
        "# *** TODO ***\n",
        "# Entraînez un classifieur par ensemble de type Random Forest sur le jeu de données moons.\n",
        "# Train a Random Forest ensemble classifier on the moons dataset.\n",
        "# ******\n",
        "\n",
        "_times.append(time.time())\n",
        "pyplot.figure(figsize=(28, 28))\n",
        "plot_dmax = [1, 4, 8, 12]\n",
        "plot_count = 0\n",
        "\n",
        "for dmax in range(1, 13):\n",
        "    scoreTrain = 0.0\n",
        "    scoreTest = 0.0\n",
        "\n",
        "    # *** TODO ***\n",
        "    # Produisez quatre figures des régions de décision pour des profondeurs d'arbres de {1, 4, 8, 12}\n",
        "    # Produce four figures of decision regions for tree depths of {1, 4, 8, 12}\n",
        "    # ******\n",
        "\n",
        "    if dmax in plot_dmax:\n",
        "        pyplot.subplot(2, 2, 1 + plot_count)\n",
        "        plot_count += 1\n",
        "        pyplot.title(\"dmax : {}, train : {:.4f}, valid : {:.4f}\".format(dmax, scoreTrain, scoreTest))\n",
        "\n",
        "pyplot.show()\n",
        "pyplot.figure()\n",
        "\n",
        "# *** TODO ***\n",
        "# Produisez une figure montrant la performance en entraînement et test en fonction de la profondeur maximale utilisée.\n",
        "# Produce a figure showing training and test performance as a function of maximum depth used.\n",
        "# ******\n",
        "\n",
        "_times.append(time.time())\n",
        "checkTime(TMAX_Q3C, \"3C\")\n",
        "pyplot.show()"
      ]
    }
  ],
  "metadata": {
    "PAX": {
      "userLang": "fr"
    },
    "celltoolbar": "",
    "jupytext": {
      "notebook_metadata_filter": "celltoolbar",
      "text_representation": {
        "extension": ".md",
        "format_name": "markdown",
        "format_version": "1.3",
        "jupytext_version": "1.13.6"
      }
    },
    "kernelspec": {
      "display_name": "Python 3 (PAX)",
      "language": "python",
      "name": "python3"
    },
    "language_info": {
      "codemirror_mode": {
        "name": "ipython",
        "version": 3
      },
      "file_extension": ".py",
      "mimetype": "text/x-python",
      "name": "python",
      "nbconvert_exporter": "python",
      "pygments_lexer": "ipython3",
      "version": "3.8.10"
    },
    "nbTranslate": {
      "displayLangs": [
        "*"
      ],
      "hotkey": "alt-t",
      "langInMainMenu": true,
      "sourceLang": "fr",
      "targetLang": "en",
      "useGoogleTranslate": true
    },
    "colab": {
      "provenance": [],
      "include_colab_link": true
    }
  },
  "nbformat": 4,
  "nbformat_minor": 5
}