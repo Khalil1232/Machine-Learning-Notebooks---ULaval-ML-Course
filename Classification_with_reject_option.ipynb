{
  "cells": [
    {
      "cell_type": "markdown",
      "metadata": {
        "id": "view-in-github",
        "colab_type": "text"
      },
      "source": [
        "<a href=\"https://colab.research.google.com/github/Khalil1232/Machine-Learning-ULaval/blob/main/Classification_with_reject_option.ipynb\" target=\"_parent\"><img src=\"https://colab.research.google.com/assets/colab-badge.svg\" alt=\"Open In Colab\"/></a>"
      ]
    },
    {
      "cell_type": "markdown",
      "id": "f2bde9ed",
      "metadata": {
        "editable": false,
        "id": "f2bde9ed",
        "lang": "fr",
        "tags": [
          "problem-title"
        ]
      },
      "source": [
        "# Devoir 1, Question 3 : Classement avec option de rejet"
      ]
    },
    {
      "cell_type": "markdown",
      "id": "18725f5a",
      "metadata": {
        "editable": false,
        "id": "18725f5a",
        "lang": "en",
        "tags": [
          "problem-title"
        ]
      },
      "source": [
        "# Homework 1, Question 3: Classification with reject option"
      ]
    },
    {
      "cell_type": "markdown",
      "id": "a7ca48a8",
      "metadata": {
        "editable": false,
        "id": "a7ca48a8",
        "lang": "fr",
        "tags": [
          "problem-statement"
        ]
      },
      "source": [
        "Soit un classifieur bayésien de loi normale multivariée avec matrices de covariance distinctes pour chaque classe et isotropiques, c’est-à-dire avec des valeurs égales sur toute la diagonale et nulles autrement, $\\mathbf{\\Sigma}_i=\\sigma_i^2\\mathbf{I},~\\forall i$."
      ]
    },
    {
      "cell_type": "markdown",
      "id": "70b70893",
      "metadata": {
        "editable": false,
        "id": "70b70893",
        "lang": "en",
        "tags": [
          "problem-statement"
        ]
      },
      "source": [
        "Consider a Bayesian multivariate Gaussian distribution classifier with distinct covariance matrices for each class and isotropic, that is, with values equal across the diagonal and zero otherwise, $\\mathbf{\\Sigma}_i=\\sigma_i^2\\mathbf{I},~\\forall i$."
      ]
    },
    {
      "cell_type": "markdown",
      "id": "64f7c0db",
      "metadata": {
        "editable": false,
        "id": "64f7c0db",
        "lang": "fr",
        "tags": []
      },
      "source": [
        "## Librairies permises"
      ]
    },
    {
      "cell_type": "markdown",
      "id": "ed73ecf6",
      "metadata": {
        "editable": false,
        "id": "ed73ecf6",
        "lang": "en",
        "tags": []
      },
      "source": [
        "## Allowed libraries"
      ]
    },
    {
      "cell_type": "code",
      "execution_count": null,
      "id": "218ef82f",
      "metadata": {
        "ExecuteTime": {
          "end_time": "2022-10-06T00:10:40.289616Z",
          "start_time": "2022-10-06T00:10:40.276645Z"
        },
        "editable": false,
        "id": "218ef82f",
        "tags": [
          "problem-context",
          "autoexec"
        ]
      },
      "outputs": [],
      "source": [
        "%matplotlib notebook\n",
        "import time\n",
        "import numpy\n",
        "import pandas\n",
        "import collections\n",
        "\n",
        "from IPython import display\n",
        "\n",
        "import matplotlib\n",
        "matplotlib.rcParams['figure.figsize'] = (9.0, 7.0)\n",
        "from matplotlib import pyplot\n",
        "\n",
        "# Jeux de données / datasets\n",
        "from sklearn.datasets import load_iris\n",
        "\n",
        "# Méthodes d'évaluation / evaluation methods\n",
        "from sklearn.model_selection import train_test_split, RepeatedKFold"
      ]
    },
    {
      "cell_type": "markdown",
      "id": "955306ce",
      "metadata": {
        "editable": false,
        "id": "955306ce",
        "lang": "fr",
        "tags": []
      },
      "source": [
        "## Q3A\n",
        "Calculez l’équation pour l’estimation du paramètre $\\sigma_{i}$ par la méthode du maximum de vraisemblance, en fournissant les développements mathématiques complets dans votre rapport."
      ]
    },
    {
      "cell_type": "markdown",
      "id": "31e232a0",
      "metadata": {
        "editable": false,
        "id": "31e232a0",
        "lang": "en",
        "tags": []
      },
      "source": [
        "## Q3A\n",
        "Calculate the equation for the estimation of the parameter $\\sigma_{i}$ by the maximum likelihood method, providing the full mathematical developments in your report."
      ]
    },
    {
      "cell_type": "markdown",
      "id": "ed5e061c",
      "metadata": {
        "editable": false,
        "id": "ed5e061c",
        "lang": "fr",
        "tags": []
      },
      "source": [
        "### Entrez votre solution à Q3A dans la cellule ci-dessous (markdown et $\\LaTeX$)"
      ]
    },
    {
      "cell_type": "markdown",
      "id": "6af168d0",
      "metadata": {
        "editable": false,
        "id": "6af168d0",
        "lang": "en",
        "tags": []
      },
      "source": [
        "### Enter your answer to Q3A in the cell below (markdown and $\\LaTeX$)"
      ]
    },
    {
      "cell_type": "markdown",
      "id": "a484726d",
      "metadata": {
        "deletable": false,
        "id": "a484726d",
        "tags": [
          "user-answer-Q3A",
          "editable"
        ]
      },
      "source": [
        "Q3A)\n",
        "\n",
        "On a :\n",
        "\n",
        "$$\n",
        "l(\\sigma_{i}|X_{i}) = \\prod_{t = 1}^{p} p(x_{i}^{t} |\\sigma_{i})\n",
        "$$\n",
        "\n",
        "$$\n",
        "= \\prod_{t = 1}^{p} (2\\pi)^{\\frac{-D}{2}} det( \\Sigma_{i} )^{- \\frac{1}{2}} e^{- \\frac{1}{2} (x-\\mu)^{T}\\Sigma_{i}^{-1}(x-\\mu)}\n",
        "$$\n",
        "\n",
        "On a :\n",
        "$$\n",
        "\\Sigma_{i} = \\sigma_{i}^{2}I\n",
        "$$\n",
        "$$\n",
        "\\Sigma_{i}^{-1} = \\frac{1}{\\sigma_{i}^{2}}I\n",
        "$$\n",
        "et :\n",
        "$$\n",
        "det(\\Sigma_{i}) = \\sigma_{i}^{2D}  \n",
        "$$\n",
        "\n",
        "En appliquant la log-vraissemblance :\n",
        "\n",
        "$$\n",
        "L(X_{i}|\\sigma_{i}) = \\sum_{t=1}^{p} - \\frac{D}{2}ln(2\\pi) - Dln(\\sigma_{i})-\\frac{1}{2\\sigma_{i}^{2}}\\left \\| x_{t} - \\mu \\right \\|^{2}\n",
        "$$\n",
        "$$\n",
        "= -\\frac{Dp}{2}ln(2\\pi) - Dpln(\\sigma_{i}) - \\frac{1}{2\\sigma_{i}^{2}}\\sum_{t=1}^{p}\\left \\| x_{t} - \\mu \\right \\|^{2}\n",
        "$$\n",
        "\n",
        "En dérivant :\n",
        "$$\n",
        "\\frac{\\partial L(X_{i}|\\sigma_{i})}{\\partial \\sigma_{i}} = -\\frac{Dp}{\\sigma_{i}} + \\frac{1}{\\sigma_{i}^3}\\sum_{t=1}^{p}\\left \\| x_{t} - \\mu \\right \\|^{2}\n",
        "$$\n",
        "Pour trouver le max de vraissemblance :\n",
        "$$\n",
        "\\frac{\\partial L(X_{i}|\\sigma_{i})}{\\partial \\sigma_{i}} = 0\n",
        "$$\n",
        "$$\n",
        "\\Leftrightarrow  \\frac{Dp}{\\sigma_{i}} = \\frac{1}{\\sigma_{i}^3}\\sum_{t=1}^{p}\\left \\| x_{t} - \\mu \\right \\|^{2}\n",
        "$$\n",
        "$$\n",
        "\\Leftrightarrow \\sigma_{i}^2 = \\frac{1}{Dp}\\sum_{t=1}^{p}\\left \\| x_{t} - \\mu \\right \\|^{2}\n",
        "$$\n",
        "$$\n",
        "\\Leftrightarrow \\hat{\\sigma_{i}} = \\sqrt{\\frac{1}{Dp}\\sum_{t=1}^{p}\\left \\| x_{t} - \\mu \\right \\|^{2}}\n",
        "$$\n",
        "\n"
      ]
    },
    {
      "cell_type": "markdown",
      "id": "0f252269",
      "metadata": {
        "editable": false,
        "id": "0f252269",
        "lang": "fr",
        "tags": []
      },
      "source": [
        "## Q3B\n",
        "Supposons maintenant que l'on ajoute une option de rejet au classement. Le coût des erreurs est égal pour tous les  types d'erreurs (coût de 1), sauf pour le rejet (coût de $\\lambda \\in [0,1]$). Donnez l'équation complète pour calculer la probabilité a posteriori $P(C_{i}\\mid \\mathbf{x})$ et la fonction pour la prise de décision minimisant le risque (minimisant le coût) avec l'option de rejet."
      ]
    },
    {
      "cell_type": "markdown",
      "id": "b7a4d660",
      "metadata": {
        "editable": false,
        "id": "b7a4d660",
        "lang": "en",
        "tags": []
      },
      "source": [
        "## Q3B\n",
        "Now suppose we add a reject option to the ranking. The cost of errors is equal for all types of errors (cost of 1), except for rejection (cost of $\\lambda \\in [0,1]$). Give the full equation to calculate the posterior probability $P(C_{i}\\mid \\mathbf{x})$ and the function for decision-making minimizing risk (minimizing cost) with the reject option."
      ]
    },
    {
      "cell_type": "markdown",
      "id": "749d2d3e",
      "metadata": {
        "editable": false,
        "id": "749d2d3e",
        "lang": "fr",
        "tags": []
      },
      "source": [
        "### Entrez votre solution à Q3B dans la cellule ci-dessous (markdown et $\\LaTeX$)"
      ]
    },
    {
      "cell_type": "markdown",
      "id": "95614711",
      "metadata": {
        "editable": false,
        "id": "95614711",
        "lang": "en",
        "tags": []
      },
      "source": [
        "### Enter your answer to Q3B in the cell below (markdown and $\\LaTeX$)"
      ]
    },
    {
      "cell_type": "markdown",
      "id": "98a6d772",
      "metadata": {
        "deletable": false,
        "id": "98a6d772",
        "tags": [
          "user-answer-Q3B",
          "editable"
        ]
      },
      "source": [
        "\n",
        "La probabilité à posteriori :\n",
        "\n",
        "$$\n",
        "P(C_{i}|x) = \\frac{P(C_{i}) * P(x|C_{i})}{P(x)} = \\frac{P(C_{i}) * P(x|C_{i})}{\\sum_{i = 1}^{N}P(C_{i}) * P(x|C_{i})}\n",
        "$$\n",
        "$$\n",
        "= \\frac{P(C_{i}) *\n",
        "\\frac{1}{\\sqrt {2\\pi}^{D} \\sigma_{i}}e^{\\frac{-1}{2\\sigma_{i}^{2}}\\left \\| x - \\mu_{i}\\right \\|^{2}}\n",
        "}{\\sum_{i = 1}^{N}P(C_{i}) * \\frac{1}{\\sqrt {2\\pi^{D} \\sigma_{i}}}e^{\\frac{-1}{2\\sigma_{i}^{2}}\\left \\| x - \\mu_{i}\\right \\|^{2}}\n",
        "}\n",
        "$$\n",
        "La fonction de perte s'écrit :\n",
        "\n",
        "$$\n",
        "L(\\alpha_{i}, C_{j}) =\n",
        "\\left \\{\n",
        "\\begin{array}\n",
        "\\\\\n",
        "0 \\> si \\>  i=j\n",
        "\\\\\n",
        "\\lambda \\> si\\> i = k + 1\n",
        "\\\\\n",
        "1 \\> si \\> i \\neq j\n",
        "\\end{array}\n",
        "\\right\\}\n",
        "$$\n",
        "\n",
        "Le risque s'écrit alors comme suit pour les classes:\n",
        "$$\n",
        "R(\\alpha_{i}|x) = 1 - P(C_{i}|x)\n",
        "$$\n",
        "Et le risque pour l'option de rejet s'écrit :\n",
        "$$\n",
        "R(\\alpha_{K + 1}|x) = \\sum_{k = 1}^{K} \\lambda P(C_{k}|x)\n",
        "= \\lambda\n",
        "$$\n",
        "\n",
        "Donc la fonction de prise décision minimisant le risque en fonction de $\\lambda$ :\n",
        "$$\n",
        "\\alpha_{i} =\n",
        "\\left \\{\n",
        "\\begin{array} {ll}\n",
        "argmax_{C_{i} = C_{1}}^{C_{N}}(P(C_{i}|x)) \\> si \\>\n",
        "max(P(C_{i}|x)) > 1 -\\lambda\n",
        "\\\\\n",
        "C_{k+1} \\> sinon\n",
        "\\end{array}\n",
        "\\right\\}\n",
        "$$\n"
      ]
    },
    {
      "cell_type": "markdown",
      "id": "6b81f089",
      "metadata": {
        "editable": false,
        "id": "6b81f089",
        "lang": "fr",
        "tags": []
      },
      "source": [
        "## Q3C\n",
        "Faites une implémentation du modèle présenté au point précédent en utilisant l'interface scikit-learn, permettant ainsi de l’utiliser similairement aux autres algorithmes disponibles dans la librairie. Implémentez les méthodes `fit`, `predict`, `predict_proba` et `score` dans votre modèle. Pour la fonction `score`, utilisez le coût total de l'application de votre classifieur sur les données (somme du coût des rejets et du coût des mauvais classements). Utilisez la cellule suivante pour donner votre réponse par une implémentation dans une classe Python nommée `ClassifieurAvecRejet`."
      ]
    },
    {
      "cell_type": "markdown",
      "id": "8697b1cd",
      "metadata": {
        "editable": false,
        "id": "8697b1cd",
        "lang": "en",
        "tags": []
      },
      "source": [
        "## Q3C\n",
        "Make an implementation of the model presented in the previous point using the scikit-learn interface, thus allowing it to be used similarly to the other algorithms available in the library. Implement the `fit`,` predict`, `predict_proba` and` score` methods in your model. For the `score` function, use the total cost of applying your classifier to the data (sum of the cost of rejects and the cost of badly classified samples). Use the following cell to give your answer by an implementation in a Python class named `ClassifieurAvecRejet`."
      ]
    },
    {
      "cell_type": "markdown",
      "id": "08e3cec0",
      "metadata": {
        "editable": false,
        "id": "08e3cec0",
        "lang": "fr",
        "tags": []
      },
      "source": [
        "### Entrez votre solution à Q3C dans la cellule ci-dessous"
      ]
    },
    {
      "cell_type": "markdown",
      "id": "d934cc44",
      "metadata": {
        "editable": false,
        "id": "d934cc44",
        "lang": "en",
        "tags": []
      },
      "source": [
        "### Enter your answer to Q3C in the cell below"
      ]
    },
    {
      "cell_type": "code",
      "execution_count": null,
      "id": "70336180",
      "metadata": {
        "ExecuteTime": {
          "end_time": "2022-10-06T01:01:35.932344Z",
          "start_time": "2022-10-06T01:01:35.843104Z"
        },
        "deletable": false,
        "id": "70336180",
        "tags": [
          "user-answer-Q3C",
          "editable"
        ]
      },
      "outputs": [],
      "source": [
        "import numpy as np\n",
        "class ClassifieurAvecRejet:\n",
        "\n",
        "    def __init__(self, _lambda=1):\n",
        "        # _lambda est le coût de rejet\n",
        "        # _lambda is the cost of reject\n",
        "        self._lambda = _lambda\n",
        "\n",
        "\n",
        "    def fit(self, X, y):\n",
        "        # *** TODO Q3C ***\n",
        "        # Entraînez votre modèle à partir des données fournies en argument\n",
        "        # Train the model from datasets given as arguments\n",
        "        # initialiser les(moyennes, ecarts-types, Prob a priori) des classes a 0\n",
        "        means=[]\n",
        "        stds=[]\n",
        "        ProbPrior=[]\n",
        "        for i in np.unique(y):\n",
        "            #On cherche les entrees de la classe i\n",
        "            entrees=np.where(i==y)\n",
        "            subX= X[entrees]\n",
        "            #Calcul de Moyenne pour la classe i\n",
        "            m=np.mean(subX,axis=0)\n",
        "\n",
        "            #Calcul de l'ecart-type pour la classe i\n",
        "            var1= np.sum((subX-m)**2)\n",
        "            D= np.shape(subX)[1] #le nombre de variables\n",
        "            p= np.shape(subX)[0] # la taille de l'echantillon pour la classe i\n",
        "            sigma= (var1/D*p)**0.5\n",
        "\n",
        "            #Calcul de la probabilite a priori pour la classe i\n",
        "            prob= np.shape(subX)[0]/np.shape(X)[0]\n",
        "\n",
        "            means.append(m)\n",
        "            stds.append(sigma)\n",
        "            ProbPrior.append(prob)\n",
        "        self.means=means\n",
        "        self.stds=stds\n",
        "        self.ProbPrior=ProbPrior\n",
        "\n",
        "\n",
        "        pass # Retirez le pass / remove the pass\n",
        "        # *****\n",
        "\n",
        "\n",
        "    def predict_proba(self, X):\n",
        "        # *** TODO Q3C ***\n",
        "        # Retournez la probabilité d'appartenance à chaque classe\n",
        "        # pour les données passées en argument.\n",
        "        # Cette fonction peut supposer que fit() a préalablement été appelé.\n",
        "        # Indice: calculez les termes de l'équation de Bayes séparément.\n",
        "        # Return the class conditional probabilities to each class according\n",
        "        # to the data given as argument.\n",
        "        # This function can assume that fit() has been previously called.\n",
        "        # Tip: compute each component of Bayes equation separately.\n",
        "\n",
        "        # On calcule la probabilite a posteriori pour chaque classe\n",
        "        # nombre de variables\n",
        "        D=np.shape(X)[1]\n",
        "        # Un tableau des probas qu'on cherche\n",
        "        tab=[]\n",
        "        # calcul du numerateur pour chaque classe\n",
        "        for k in range(len(self.means)):\n",
        "            cst = ((2 * np.pi) ** (-0.5 * D))*self.sds[k]\n",
        "            val = -0.5* (1 / self.sds[k] ** 2) * numpy.sum((X - self.means[k]) ** 2, axis = 1)\n",
        "\n",
        "            val = numpy.exp(val)\n",
        "\n",
        "            tab[k] = self.ProbPrior[k] * cst * val\n",
        "\n",
        "        # on sait que l'evidence est la somme des numerateurs calcules\n",
        "        for k in range(len(tab)):\n",
        "            tab[k]=tab[k]/(numpy.sum(tab))\n",
        "\n",
        "        self.tab=tab\n",
        "        return tab\n",
        "        pass # Retirez le pass / remove the pass\n",
        "        # *****\n",
        "\n",
        "\n",
        "    def predict(self, X):\n",
        "        # *** TODO Q3C ***\n",
        "        # Retournez les prédictions de classes pour les données\n",
        "        # passées en argument.\n",
        "        # Cette fonction peut supposer que fit() a préalablement été appelé.\n",
        "        # Indice: vous pouvez appeler predict_proba() pour éviter une\n",
        "        # redondance du code.\n",
        "        # Return the class predictions for the data pass as arguments.\n",
        "        # This function can assume that fit() has been previously called.\n",
        "        # Tip: you can call predict_proba() to avoid repeating some code.\n",
        "\n",
        "        probas=predict_proba(self.X)\n",
        "        predictions=[]\n",
        "        # ici on suppose que les classes sont de 1 à len(np.unique(y)) et -1 comme classe pour l'option de rejet\n",
        "        for i in range(len(probas)):\n",
        "            if np.max(probas[i]) > (1 - self._lambda):\n",
        "                predictions[i] = i\n",
        "            else:\n",
        "                predictions[i] =-1\n",
        "\n",
        "        self.predictions=predictions\n",
        "        return predictions\n",
        "        pass # Retirez le pass / remove the pass\n",
        "        # *****\n",
        "\n",
        "\n",
        "    def score(self, X, y):\n",
        "        # *** TODO Q3C ***\n",
        "        # Retournez le score de performance, tenant compte des données rejetées\n",
        "        # si lambda < 1.0, pour les données passées en argument.\n",
        "        # Cette fonction peut supposer que fit() a préalablement été exécuté.\n",
        "        # Return the performance score, taking into account rejected samples\n",
        "        # if lambda < 1.0, for data given as argument.\n",
        "        # This function can assume that fit() has been previously called.\n",
        "\n",
        "        predictions= predict(self.X)\n",
        "\n",
        "\n",
        "        #score pour rejet\n",
        "        score_reject = self._lambda * float((len(numpy.where(predictions == -1))) /(len(X)))\n",
        "        #score pour un choix correct\n",
        "        self.score = float(len(numpy.where(predictions == y)[0])) / float(len(X))\n",
        "\n",
        "        self.score += score_reject\n",
        "\n",
        "        print(str(float(1 - self.score)))\n",
        "        return self.score\n",
        "\n",
        "\n",
        "        pass # Retirez le pass / remove the pass\n",
        "        # *****"
      ]
    },
    {
      "cell_type": "markdown",
      "id": "2677d720",
      "metadata": {
        "editable": false,
        "id": "2677d720",
        "lang": "fr",
        "tags": []
      },
      "source": [
        "### Patron de code réponse à l'exercice Q3C"
      ]
    },
    {
      "cell_type": "markdown",
      "id": "31f99437",
      "metadata": {
        "editable": false,
        "id": "31f99437",
        "lang": "en",
        "tags": []
      },
      "source": [
        "### Q3C answer code template"
      ]
    },
    {
      "cell_type": "code",
      "execution_count": null,
      "id": "07fec82c",
      "metadata": {
        "editable": false,
        "id": "07fec82c",
        "tags": []
      },
      "outputs": [],
      "source": [
        "class ClassifieurAvecRejet:\n",
        "\n",
        "    def __init__(self, _lambda=1):\n",
        "        # _lambda est le coût de rejet\n",
        "        # _lambda is the cost of reject\n",
        "        self._lambda = _lambda\n",
        "\n",
        "\n",
        "    def fit(self, X, y):\n",
        "        # *** TODO Q3C ***\n",
        "        # Entraînez votre modèle à partir des données fournies en argument\n",
        "        # Train the model from datasets given as arguments\n",
        "        pass # Retirez le pass / remove the pass\n",
        "        # *****\n",
        "\n",
        "\n",
        "    def predict_proba(self, X):\n",
        "        # *** TODO Q3C ***\n",
        "        # Retournez la probabilité d'appartenance à chaque classe\n",
        "        # pour les données passées en argument.\n",
        "        # Cette fonction peut supposer que fit() a préalablement été appelé.\n",
        "        # Indice: calculez les termes de l'équation de Bayes séparément.\n",
        "        # Return the class conditional probabilities to each class according\n",
        "        # to the data given as argument.\n",
        "        # This function can assume that fit() has been previously called.\n",
        "        # Tip: compute each component of Bayes equation separately.\n",
        "        pass # Retirez le pass / remove the pass\n",
        "        # *****\n",
        "\n",
        "\n",
        "    def predict(self, X):\n",
        "        # *** TODO Q3C ***\n",
        "        # Retournez les prédictions de classes pour les données\n",
        "        # passées en argument.\n",
        "        # Cette fonction peut supposer que fit() a préalablement été appelé.\n",
        "        # Indice: vous pouvez appeler predict_proba() pour éviter une\n",
        "        # redondance du code.\n",
        "        # Return the class predictions for the data pass as arguments.\n",
        "        # This function can assume that fit() has been previously called.\n",
        "        # Tip: you can call predict_proba() to avoid repeating some code.\n",
        "        pass # Retirez le pass / remove the pass\n",
        "        # *****\n",
        "\n",
        "\n",
        "    def score(self, X, y):\n",
        "        # *** TODO Q3C ***\n",
        "        # Retournez le score de performance, tenant compte des données rejetées\n",
        "        # si lambda < 1.0, pour les données passées en argument.\n",
        "        # Cette fonction peut supposer que fit() a préalablement été exécuté.\n",
        "        # Return the performance score, taking into account rejected samples\n",
        "        # if lambda < 1.0, for data given as argument.\n",
        "        # This function can assume that fit() has been previously called.\n",
        "        pass # Retirez le pass / remove the pass\n",
        "        # *****"
      ]
    },
    {
      "cell_type": "markdown",
      "id": "fea69d06",
      "metadata": {
        "editable": false,
        "id": "fea69d06",
        "lang": "fr",
        "tags": []
      },
      "source": [
        "## Q3D\n",
        "Utilisez le jeu de données des Iris de Fisher pour tester l'algorithme que vous avez implémenté à la sous-question précédente. Pour ce faire, exécutez l'algorithme en variant le coût de rejet. Testez avec les coûts de rejet suivants : $\\lambda=\\{0.1, 0.3, 0.5, 1.0\\}$.\n",
        "\n",
        "Pour chaque configuration, rapportez l’erreur empirique correspondant au taux d’erreur de classement sur le jeu de données au complet (erreur sur le jeu d’entraînement). Représentez également les résultats visuellement, en traçant les données (avec indicateurs de classe), les régions de décision dans des figures 2D, incluant les régions de rejet, pour toutes les paires de variables. Fournissez votre solution dans la cellule suivante."
      ]
    },
    {
      "cell_type": "markdown",
      "id": "2c1f339d",
      "metadata": {
        "editable": false,
        "id": "2c1f339d",
        "lang": "en",
        "tags": []
      },
      "source": [
        "## Q3D\n",
        "Use the Fisher Iris dataset to test the algorithm you implemented in the previous sub-question. To do this, run the algorithm by varying the cost of rejection. Test with the following rejection costs: $\\lambda=\\{0.1, 0.3, 0.5, 1.0\\}$.\n",
        "\n",
        "For each configuration, report the empirical error corresponding to the classification error rate on the entire dataset (error on the training set). Also represent the results visually, plotting the data (with class indicators), decision regions in 2D figures, including rejection regions, for all pairs of variables. Provide your solution in the next cell."
      ]
    },
    {
      "cell_type": "markdown",
      "id": "ef5d49c3",
      "metadata": {
        "editable": false,
        "id": "ef5d49c3",
        "lang": "fr",
        "tags": []
      },
      "source": [
        "### Entrez votre solution à Q3D dans la cellule ci-dessous"
      ]
    },
    {
      "cell_type": "markdown",
      "id": "5073d7f0",
      "metadata": {
        "editable": false,
        "id": "5073d7f0",
        "lang": "en",
        "tags": []
      },
      "source": [
        "### Enter your answer to Q3D in the cell below"
      ]
    },
    {
      "cell_type": "code",
      "execution_count": null,
      "id": "ed8f1f78",
      "metadata": {
        "deletable": false,
        "id": "ed8f1f78",
        "tags": [
          "user-answer-Q3D",
          "editable"
        ]
      },
      "outputs": [],
      "source": []
    },
    {
      "cell_type": "markdown",
      "id": "63c486fd",
      "metadata": {
        "editable": false,
        "id": "63c486fd",
        "lang": "fr",
        "tags": []
      },
      "source": [
        "### Patron de code réponse à l'exercice Q3D"
      ]
    },
    {
      "cell_type": "markdown",
      "id": "6be70e0d",
      "metadata": {
        "editable": false,
        "id": "6be70e0d",
        "lang": "en",
        "tags": []
      },
      "source": [
        "### Q3D answer code template"
      ]
    },
    {
      "cell_type": "code",
      "execution_count": null,
      "id": "ab799b99",
      "metadata": {
        "editable": false,
        "id": "ab799b99",
        "tags": []
      },
      "outputs": [],
      "source": [
        "# Durée d'exécution maximale / maximum execution time\n",
        "TMAX_Q3D = 1.0\n",
        "\n",
        "# Dictionnaire pour enregistrer les erreurs selon les classifieurs\n",
        "# Dictionary to record classification errors\n",
        "erreurs = collections.defaultdict(list)\n",
        "erreurs['Classifieurs'] = []\n",
        "\n",
        "# *** TODO Q3D ***\n",
        "# Chargez jeu de données Iris dans une variable nommée 'data'\n",
        "# Load dataset Iris in the variable named 'data'\n",
        "# ******\n",
        "\n",
        "# Créer une liste contenant toutes les paires possibles\n",
        "# Create a list with all possible pairs\n",
        "pairs = [(i, j) for i in range(4) for j in range(i+1, 4)]\n",
        "\n",
        "# Tester le classifieur avec différents lambda pour toutes les paires\n",
        "# Test the classifier with different lambda over all pairs\n",
        "for (f1, f2) in pairs:\n",
        "    f1_name = data.feature_names[f1]\n",
        "    f2_name = data.feature_names[f2]\n",
        "\n",
        "    # *** TODO Q3D ***\n",
        "    # Créez un jeu de données contenant seulement les\n",
        "    # mesures désignées par f1 et f2\n",
        "\n",
        "    # Créez grille permettant d'afficher régions de décision pour chaque classifieur\n",
        "    # Indices : numpy.meshgrid pourrait vous être utile, mais n'utilisez pas un pas trop petit!\n",
        "    # Create a grid for displaying various decision regions for each classifier\n",
        "    # Tips: numpy.meshgrid can be useful, but don't use a too small step size\n",
        "    # ******\n",
        "\n",
        "    # On initialise les classifieurs avec différents paramètres lambda\n",
        "    classifieurs = [ClassifieurAvecRejet(0.1),\n",
        "                    ClassifieurAvecRejet(0.3),\n",
        "                    ClassifieurAvecRejet(0.5),\n",
        "                    ClassifieurAvecRejet(1)]\n",
        "\n",
        "    # Créer une figure à plusieurs sous-graphes pour pouvoir montrer,\n",
        "    # pour chaque configuration, les régions de décisions, incluant\n",
        "    # la zone de rejet\n",
        "    # Create a figure with several sub-plots to show, for all configuration,\n",
        "    # decision regions, including the reject zone\n",
        "    fig, subfigs = pyplot.subplots(2, 2, sharex='all', sharey='all',\n",
        "                                   tight_layout=True)\n",
        "    t1 = time.time()\n",
        "    for clf,subfig in zip(classifieurs, subfigs.reshape(-1)):\n",
        "        clf_name = clf.__class__.__name__ + \" (\\u03BB={})\".format(clf._lambda)\n",
        "        if clf_name not in erreurs['Classifieurs']:\n",
        "            erreurs['Classifieurs'].append(clf_name)\n",
        "\n",
        "        # *** TODO Q3D ***\n",
        "        # Entraînez le classifieur\n",
        "        # Train the classifier\n",
        "\n",
        "        # Stockez la valeur de l'erreur dans la variable err\n",
        "        # Store error value in variable err\n",
        "\n",
        "        # Utilisez la grille pour afficher les régions de décision,\n",
        "        # INCLUANT LA ZONE DE REJET, de même que les points colorés selon\n",
        "        # leur vraie classe\n",
        "        # Use the grid to display the decision regions, INCLUDING THE\n",
        "        # REJECT ZONE, as well the points coloured according to their\n",
        "        # real labels.\n",
        "        # ******\n",
        "\n",
        "        # Ajouter l'erreur pour affichage\n",
        "        # Add error for displaying\n",
        "        erreurs[f'{f1_name} {f2_name}'].append(err)\n",
        "\n",
        "        # Ajouter un titre et des étiquettes d'axes\n",
        "        # Add title and axis labels\n",
        "        subfig.set_title(\"\\u03BB=\"+str(clf._lambda))\n",
        "        subfig.set_xlabel(data.feature_names[f1])\n",
        "        subfig.set_ylabel(data.feature_names[f2])\n",
        "\n",
        "    ### Ne pas modifier / do not modify ###\n",
        "    t2 = time.time()\n",
        "    duration = t2 - t1\n",
        "    if duration > TMAX_Q3D:\n",
        "        print(f\"\\x1b[31m[ATTENTION] Votre code pour la question Q3D \" +\n",
        "              f\"met trop de temps à s'exécuter! Le temps maximum \" +\n",
        "              f\"permis est de {TMAX_Q3D:.4f} secondes, mais votre \" +\n",
        "              f\"code a requis {duration:.4f} secondes! Assurez-vous \" +\n",
        "              f\"que vous ne faites pas d'appels bloquants (par \" +\n",
        "              f\"exemple à show()) dans cette boucle!\\x1b[0m\")\n",
        "\n",
        "# Affichage des erreurs / error display\n",
        "clfs = erreurs.pop('Classifieurs')\n",
        "df = pandas.DataFrame(erreurs, index=clfs)\n",
        "display.display(df)"
      ]
    }
  ],
  "metadata": {
    "PAX": {
      "userLang": "fr"
    },
    "celltoolbar": "",
    "jupytext": {
      "notebook_metadata_filter": "celltoolbar",
      "text_representation": {
        "extension": ".md",
        "format_name": "markdown",
        "format_version": "1.3",
        "jupytext_version": "1.13.6"
      }
    },
    "kernelspec": {
      "display_name": "Python 3 (PAX)",
      "language": "python",
      "name": "python3"
    },
    "language_info": {
      "codemirror_mode": {
        "name": "ipython",
        "version": 3
      },
      "file_extension": ".py",
      "mimetype": "text/x-python",
      "name": "python",
      "nbconvert_exporter": "python",
      "pygments_lexer": "ipython3",
      "version": "3.8.10"
    },
    "nbTranslate": {
      "displayLangs": [
        "fr"
      ],
      "hotkey": "alt-t",
      "langInMainMenu": true,
      "sourceLang": "fr",
      "targetLang": "en",
      "useGoogleTranslate": true
    },
    "colab": {
      "provenance": [],
      "include_colab_link": true
    }
  },
  "nbformat": 4,
  "nbformat_minor": 5
}