{
  "cells": [
    {
      "cell_type": "markdown",
      "metadata": {
        "id": "view-in-github",
        "colab_type": "text"
      },
      "source": [
        "<a href=\"https://colab.research.google.com/github/Khalil1232/Machine-Learning-ULaval/blob/main/Data_clustering.ipynb\" target=\"_parent\"><img src=\"https://colab.research.google.com/assets/colab-badge.svg\" alt=\"Open In Colab\"/></a>"
      ]
    },
    {
      "cell_type": "markdown",
      "id": "3443a89d",
      "metadata": {
        "editable": false,
        "id": "3443a89d",
        "lang": "fr",
        "tags": [
          "problem-title"
        ]
      },
      "source": [
        "# Devoir 5, Question 1 : Clustering de données"
      ]
    },
    {
      "cell_type": "markdown",
      "id": "753dab8d",
      "metadata": {
        "editable": false,
        "id": "753dab8d",
        "lang": "en"
      },
      "source": [
        "# Homework 5, Question 1: Data clustering"
      ]
    },
    {
      "cell_type": "markdown",
      "id": "b51cd436",
      "metadata": {
        "editable": false,
        "id": "b51cd436",
        "lang": "fr",
        "tags": [
          "problem-statement"
        ]
      },
      "source": [
        "## Code préambule"
      ]
    },
    {
      "cell_type": "markdown",
      "id": "88397834",
      "metadata": {
        "editable": false,
        "id": "88397834",
        "lang": "en",
        "tags": [
          "problem-statement"
        ]
      },
      "source": [
        "## Preamble code"
      ]
    },
    {
      "cell_type": "code",
      "execution_count": null,
      "id": "f95a04a4",
      "metadata": {
        "ExecuteTime": {
          "end_time": "2022-12-05T15:23:06.512251Z",
          "start_time": "2022-12-05T15:23:06.496818Z"
        },
        "editable": false,
        "id": "f95a04a4",
        "tags": [
          "problem-context",
          "autoexec"
        ]
      },
      "outputs": [],
      "source": [
        "import time\n",
        "import numpy\n",
        "import warnings\n",
        "import pandas\n",
        "\n",
        "# Nous ne voulons pas avoir ce type d'avertissement, qui\n",
        "# n'est pas utile dans le cadre de ce devoir\n",
        "# We do not want to have this type of warning, which\n",
        "# is not useful in the context of this assignment\n",
        "warnings.filterwarnings(\"ignore\", category=FutureWarning)\n",
        "\n",
        "from matplotlib import pyplot\n",
        "\n",
        "from sklearn.cluster import KMeans\n",
        "from sklearn.metrics import adjusted_rand_score, adjusted_mutual_info_score, v_measure_score\n",
        "from sklearn.datasets import load_breast_cancer\n",
        "from sklearn.mixture import GaussianMixture\n",
        "\n",
        "# Fonctions utilitaires liées à l'évaluation\n",
        "# Utility functions related to the evaluation\n",
        "_times = []\n",
        "def checkTime(maxduration, question):\n",
        "    duration = _times[-1] - _times[-2]\n",
        "    if duration > maxduration:\n",
        "        print(\"[ATTENTION] Votre code pour la question {0} met trop de temps à s'exécuter! \".format(question)+\n",
        "            \"Le temps maximum permis est de {0:.4f} secondes, mais votre code a requis {1:.4f} secondes! \".format(maxduration,duration)+\n",
        "            \"Assurez-vous que vous ne faites pas d'appels bloquants (par exemple à show()) dans cette boucle!\")\n",
        "\n",
        "# Définition des durées d'exécution maximales pour chaque sous-question\n",
        "# Definition of maximum execution times for each sub-question\n",
        "TMAX_Q1A = 15\n",
        "TMAX_Q1B = 20\n",
        "TMAX_Q1C = 20"
      ]
    },
    {
      "cell_type": "markdown",
      "id": "828995e6",
      "metadata": {
        "editable": false,
        "id": "828995e6",
        "lang": "fr",
        "tags": [
          "problem-statement"
        ]
      },
      "source": [
        "Les questions suivantes feront usage du jeu de données *Wisconsin Breast Cancer*, disponible dans scikit-learn (`datasets.load_breast_cancer`). Les 30 variables correspondent à différentes mesures effectuées sur des tumeurs devant être classifiées comme bénignes ou malignes."
      ]
    },
    {
      "cell_type": "markdown",
      "id": "bf52066a",
      "metadata": {
        "editable": false,
        "id": "bf52066a",
        "lang": "en",
        "tags": [
          "problem-statement"
        ]
      },
      "source": [
        "The following questions will make use of the *Wisconsin Breast Cancer* dataset, available in scikit-learn (*datasets.load_breast_cancer*). The 30 variables correspond to different measurements performed on tumours to be classified as benign or malignant."
      ]
    },
    {
      "cell_type": "markdown",
      "id": "9d2d03db",
      "metadata": {
        "editable": false,
        "id": "9d2d03db",
        "lang": "fr"
      },
      "source": [
        "## Q1A\n",
        "En utilisant l’algorithme K-means, faites varier le nombre de clusters utilisés selon $K=[2,4,\\ldots,50]$ et comparez les résultats en utilisant les mesures de l’indice de Rand ajusté (`metrics.adjusted_rand_score`), le score basé sur l’information mutuelle (`metrics.adjusted_mutual_info_score`) et la mesure V (`metrics.v_measure_score`). Pour déterminer l’étiquette prédite, assignez au cluster l’étiquette (tumeur ou non) la plus fréquente parmi les données appartenant au cluster. Tracez les résultats dans une figure comparant la valeur des mesures de performance selon le nombre de clusters."
      ]
    },
    {
      "cell_type": "markdown",
      "id": "4df4a030",
      "metadata": {
        "editable": false,
        "id": "4df4a030",
        "lang": "en"
      },
      "source": [
        "## Q1A\n",
        "Using the K-means algorithm, vary the number of clusters used according to $K=[2,4,\\ldots,50]$ and compare the results using the measures of the adjusted Rand index (`metrics.adjusted _rand_ score`), the score based on mutual information (`metrics.adjusted _mutual_ info _score`) and measure V (` metrics.v_ measure_score`). To determine the predicted label, assign the cluster the label (tumour or not) that is most frequent among the data belonging to the cluster. Plot the results in a figure comparing the value of the performance metrics by the number of clusters."
      ]
    },
    {
      "cell_type": "markdown",
      "id": "1b846fe4",
      "metadata": {
        "editable": false,
        "id": "1b846fe4",
        "lang": "fr",
        "tags": []
      },
      "source": [
        "### Entrez votre solution à Q1A dans la cellule suivante, en vous basant sur le patron de code donné plus bas."
      ]
    },
    {
      "cell_type": "markdown",
      "id": "27c78c1b",
      "metadata": {
        "editable": false,
        "id": "27c78c1b",
        "lang": "en",
        "tags": []
      },
      "source": [
        "### Enter your answer to Q1A in the following cell, starting from the code template given below."
      ]
    },
    {
      "cell_type": "code",
      "execution_count": null,
      "id": "4115c29d",
      "metadata": {
        "ExecuteTime": {
          "end_time": "2022-12-05T15:23:11.012088Z",
          "start_time": "2022-12-05T15:23:09.019131Z"
        },
        "deletable": false,
        "id": "4115c29d",
        "tags": [
          "user-answer-D5Q1A",
          "editable"
        ],
        "outputId": "840db957-de82-45fa-c0dd-24bc9f5e8662"
      },
      "outputs": [
        {
          "data": {
            "image/png": "[encoded data removed]",
            "text/plain": [
              "<Figure size 432x288 with 1 Axes>"
            ]
          },
          "metadata": {
            "needs_background": "light"
          },
          "output_type": "display_data"
        }
      ],
      "source": [
        "X, y = load_breast_cancer(return_X_y=True)\n",
        "\n",
        "def evalKmeans(X, y, k):\n",
        "    # Cette fonction prend en paramètre un jeu de données (X et y)\n",
        "    # et le nombre de clusters à utiliser (k).\n",
        "    # Elle retourne un tuple de 3 éléments, à savoir les scores basés sur:\n",
        "    # - L'indice de Rand ajusté\n",
        "    # - L'information mutuelle\n",
        "    # - La mesure V\n",
        "    # This function takes as parameters a dataset (X and y)\n",
        "    # and the number of clusters to use (k).\n",
        "    # It returns a tuple of 3 elements, namely the scores based on:\n",
        "    # - Adjusted Rand index\n",
        "    # - Mutual information\n",
        "    # - V measure\n",
        "\n",
        "    # *** TODO ***\n",
        "    # Mesurez les différentes métriques avec les fonctions Scikit-learn\n",
        "    # et retournez le tuple qui contient les scores.\n",
        "    # Measure the different metrics with the Scikit-learn functions\n",
        "    # and return the tuple containing the scores.\n",
        "    # ******\n",
        "\n",
        "    metrics = [adjusted_rand_score, adjusted_mutual_info_score, v_measure_score]\n",
        "\n",
        "\n",
        "    kmeans = KMeans(n_clusters=k, random_state=0).fit(X)\n",
        "    return tuple([metric(y, kmeans.labels_) for metric in metrics])\n",
        "\n",
        "_times.append(time.time())\n",
        "pyplot.figure()\n",
        "\n",
        "# *** TODO ***\n",
        "# Évaluez ici la performance de K-means en utilisant la fonction `evalKmeans`\n",
        "# définie plus haut, en faisant varier le nombre de clusters entre 2 et 50\n",
        "# par incrément de 2. Tracez les résultats obtenus dans un graphique.\n",
        "# Evaluate here the performance of K-means using the `evalKmeans` function\n",
        "# defined above, varying the number of clusters between 2 and 50 in increments\n",
        "# of 2. Plot the results in a graph.\n",
        "# ******\n",
        "n_clusters = [n for n in range(2, 51, 2)]\n",
        "Results = []\n",
        "for k in n_clusters:\n",
        "    Results.append(evalKmeans(X, y, k))\n",
        "\n",
        "pyplot.plot(n_clusters, Results)\n",
        "\n",
        "pyplot.ylim([0.1, 0.8])\n",
        "_times.append(time.time())\n",
        "checkTime(TMAX_Q1A, \"1A\")\n",
        "pyplot.show()"
      ]
    },
    {
      "cell_type": "markdown",
      "id": "82395f37",
      "metadata": {
        "editable": false,
        "id": "82395f37",
        "lang": "fr",
        "tags": []
      },
      "source": [
        "### Patron de code réponse à l'exercice Q1A"
      ]
    },
    {
      "cell_type": "markdown",
      "id": "12f5dd0f",
      "metadata": {
        "editable": false,
        "id": "12f5dd0f",
        "lang": "en",
        "tags": []
      },
      "source": [
        "### Q1A answer code template"
      ]
    },
    {
      "cell_type": "code",
      "execution_count": null,
      "id": "5e3eb56e",
      "metadata": {
        "editable": false,
        "id": "5e3eb56e",
        "tags": []
      },
      "outputs": [],
      "source": [
        "def evalKmeans(X, y, k):\n",
        "    # Cette fonction prend en paramètre un jeu de données (X et y)\n",
        "    # et le nombre de clusters à utiliser (k).\n",
        "    # Elle retourne un tuple de 3 éléments, à savoir les scores basés sur:\n",
        "    # - L'indice de Rand ajusté\n",
        "    # - L'information mutuelle\n",
        "    # - La mesure V\n",
        "    # This function takes as parameters a dataset (X and y)\n",
        "    # and the number of clusters to use (k).\n",
        "    # It returns a tuple of 3 elements, namely the scores based on:\n",
        "    # - Adjusted Rand index\n",
        "    # - Mutual information\n",
        "    # - V measure\n",
        "\n",
        "    # *** TODO ***\n",
        "    # Mesurez les différentes métriques avec les fonctions Scikit-learn\n",
        "    # et retournez le tuple qui contient les scores.\n",
        "    # Measure the different metrics with the Scikit-learn functions\n",
        "    # and return the tuple containing the scores.\n",
        "    # ******\n",
        "    pass\n",
        "\n",
        "_times.append(time.time())\n",
        "pyplot.figure()\n",
        "\n",
        "# *** TODO ***\n",
        "# Évaluez ici la performance de K-means en utilisant la fonction `evalKmeans`\n",
        "# définie plus haut, en faisant varier le nombre de clusters entre 2 et 50\n",
        "# par incrément de 2. Tracez les résultats obtenus dans un graphique.\n",
        "# Evaluate here the performance of K-means using the `evalKmeans` function\n",
        "# defined above, varying the number of clusters between 2 and 50 in increments\n",
        "# of 2. Plot the results in a graph.\n",
        "# ******\n",
        "\n",
        "pyplot.ylim([0.1, 0.8])\n",
        "_times.append(time.time())\n",
        "checkTime(TMAX_Q1A, \"1A\")\n",
        "pyplot.show()"
      ]
    },
    {
      "cell_type": "markdown",
      "id": "6c153acf",
      "metadata": {
        "editable": false,
        "id": "6c153acf",
        "lang": "fr"
      },
      "source": [
        "## Q1B\n",
        "En utilisant cette fois l'algorithme *Espérance maximisation* (*EM*), faites varier le nombre de clusters utilisés selon $K=[2,4,\\ldots,50]$ pour une loi normale initialisée aléatoirement (`mixture.GaussianMixture(init_params='random')`).\n",
        "\n",
        "Pour évaluer les performances du clustering de EM, il faut assigner à chaque donnée une probabilité a posteriori de classement $P(C_i|\\mathbf{x}^t)$ selon :\n",
        "$$P(C_i|\\mathbf{x}^t) = \\frac{\\sum_j P(C_i|\\mathcal{G}_j)\\, P(\\mathcal{G}_j|\\mathbf{x}^t)}{\\sum_l \\sum_j P(C_l|\\mathcal{G}_j)\\, P(\\mathcal{G}_j|\\mathbf{x}^t)},\\qquad P(C_i|\\mathcal{G}_j) = \\frac{\\sum_t r_i^t P(\\mathcal{G}_j|\\mathbf{x}^t)}{\\sum_l \\sum_t r_l^t P(\\mathcal{G}_j|\\mathbf{x}^t)}.$$\n",
        "\n",
        "Le classement se fait en assignant la donnée à la classe dont la probabilité de classement est la plus élevée:\n",
        "$$y_i^t = \\left\\{ \\begin{array}{cc}1 & \\text{si } i = \\mathrm{argmax}_j P(C_j|\\mathbf{x}^t)\\\\ 0 & \\text{autrement}\\end{array}\\right..$$\n",
        "\n",
        "Tracez les résultats dans une figure comparant la valeur des mesures de performance selon le nombre de clusters."
      ]
    },
    {
      "cell_type": "markdown",
      "id": "72424755",
      "metadata": {
        "editable": false,
        "id": "72424755",
        "lang": "en"
      },
      "source": [
        "## Q1B\n",
        "This time using the *Expectation Maximization* (*EM*) algorithm, vary the number of clusters used according to $K=[2,4,\\ldots,50]$ for a randomly initialized normal distribution (`mixture.GaussianMixture (init_params = 'random ')`).\n",
        "\n",
        "To evaluate the performance of EM clustering, each data must be assigned an a posteriori probability of $P(C_i|\\mathbf{x}^t)$ classification according to:\n",
        "$$P(C_i|\\mathbf{x}^t) = \\frac{\\sum_j P(C_i|\\mathcal{G}_j)\\, P(\\mathcal{G}_j|\\mathbf{x}^t)}{\\sum_l \\sum_j P(C_l|\\mathcal{G}_j)\\, P(\\mathcal{G}_j|\\mathbf{x}^t)},\\qquad P(C_i|\\mathcal{G}_j) = \\frac{\\sum_t r_i^t P(\\mathcal{G}_j|\\mathbf{x}^t)}{\\sum_l \\sum_t r_l^t P(\\mathcal{G}_j|\\mathbf{x}^t)}.$$\n",
        "\n",
        "Classification is done by assigning the data to the class with the highest probability of classification:\n",
        "$$y_i^t = \\left\\{ \\begin{array}{cc}1 & \\text{if } i = \\mathrm{argmax}_j P(C_j|\\mathbf{x}^t)\\\\ 0 & \\text{otherwise}\\end{array}\\right..$$\n",
        "\n",
        "Plot the results in a figure comparing the value of the performance metrics by the number of clusters."
      ]
    },
    {
      "cell_type": "markdown",
      "id": "d0a1e73c",
      "metadata": {
        "editable": false,
        "id": "d0a1e73c",
        "lang": "fr",
        "tags": []
      },
      "source": [
        "### Entrez votre solution à Q1B dans la cellule suivante, en vous basant sur le patron de code donné plus bas."
      ]
    },
    {
      "cell_type": "markdown",
      "id": "4b216371",
      "metadata": {
        "editable": false,
        "id": "4b216371",
        "lang": "en",
        "tags": []
      },
      "source": [
        "### Enter your answer to Q1B in the following cell, starting from the code template given below."
      ]
    },
    {
      "cell_type": "code",
      "execution_count": null,
      "id": "11b4a76d",
      "metadata": {
        "ExecuteTime": {
          "end_time": "2022-12-05T15:23:25.877252Z",
          "start_time": "2022-12-05T15:23:22.466539Z"
        },
        "deletable": false,
        "id": "11b4a76d",
        "tags": [
          "user-answer-D5Q1B",
          "editable"
        ],
        "outputId": "6743a39e-7391-40b8-b423-c3ed3ba24bc5"
      },
      "outputs": [
        {
          "data": {
            "image/png": "[encoded data removed]",
            "text/plain": [
              "<Figure size 432x288 with 1 Axes>"
            ]
          },
          "metadata": {
            "needs_background": "light"
          },
          "output_type": "display_data"
        },
        {
          "data": {
            "image/png": "[encoded data removed]",
            "text/plain": [
              "<Figure size 432x288 with 1 Axes>"
            ]
          },
          "metadata": {
            "needs_background": "light"
          },
          "output_type": "display_data"
        }
      ],
      "source": [
        "# TODO Q1B\n",
        "# Implémentez les équations fournies dans l'énoncé\n",
        "# pour déterminer les étiquettes de classe.\n",
        "\n",
        "def evalEM(X, y, k, init):\n",
        "    # Cette fonction prend en paramètre un jeu de données (X et y),\n",
        "    # le nombre de clusters à utiliser (k)\n",
        "    # et l'initialisation demandée ('random' ou 'kmeans').\n",
        "    # Elle retourne un tuple de 3 éléments, à savoir les scores basés sur:\n",
        "    # - L'indice de Rand ajusté\n",
        "    # - L'information mutuelle\n",
        "    # - La mesure V\n",
        "    # This function takes as input a dataset (X and y), the number of\n",
        "    # clusters (k) and the initialization mode ('random' or 'kmeans').\n",
        "    # It outputs a tuple of 3 elements, which are the scores based on:\n",
        "    # - The adjusted Rand index\n",
        "    # - The mutual information\n",
        "    # - The V measure\n",
        "\n",
        "    # N'oubliez pas que vous devez d'abord implémenter les équations fournies dans\n",
        "    # l'énoncé de la question pour déterminer les étiquettes de classe, avant\n",
        "    # d'évaluer les résultats des différentes métriques! Pour ce faire, il est\n",
        "    # recommandé d'utiliser les fonctions numpy (e.g. sum, dot) pour optimiser\n",
        "    # le temps de calcul.\n",
        "    # Don't forget that you must first implement the equations provided in the\n",
        "    # question statement to get the class labels, before evaluating the results\n",
        "    # using different metrics! To do so, it is recommanded to use the numpy functions\n",
        "    # (e.g. sum, dot) to optimize the computation time.\n",
        "\n",
        "    # TODO Q1B\n",
        "    # Mesurez les différentes métriques avec les fonctions\n",
        "    # Scikit-learn et retournez le tuple qui contient\n",
        "    # les scores.\n",
        "    # Measure the different metrics using the functions\n",
        "    # Scikit-learn and return the tuple containing the scores.\n",
        "    metrics = [adjusted_rand_score, adjusted_mutual_info_score, v_measure_score]\n",
        "\n",
        "    gm = GaussianMixture(n_components=k, init_params=init).fit(X)\n",
        "    return tuple([metric(y, gm.predict(X)) for metric in metrics])\n",
        "\n",
        "n_clusters = [n for n in range(2, 51, 2)]\n",
        "Results = []\n",
        "for k in n_clusters:\n",
        "    Results.append(evalEM(X, y, k, \"random\"))\n",
        "\n",
        "pyplot.plot(n_clusters, Results)\n",
        "\n",
        "_times.append(time.time())\n",
        "pyplot.figure()\n",
        "\n",
        "# TODO Q1B\n",
        "# Évaluez ici la performance de EM en utilisant la fonction `evalEM`\n",
        "# définie plus haut, en faisant varier le nombre de clusters entre 2 et 50\n",
        "# par incrément de 2 et en utilisant une initialisation aléatoire.\n",
        "# Tracez les résultats obtenus sous forme de courbe.\n",
        "# Evaluate here the performance of EM using the function 'evalEM' defined\n",
        "# above, varying the number of clusters between 2 and 50 by increments of 2\n",
        "# and using a random initialization. Plot the results as a curve.\n",
        "\n",
        "\n",
        "pyplot.ylim([0.1, 0.8])\n",
        "_times.append(time.time())\n",
        "checkTime(TMAX_Q1B, \"1B\")\n",
        "pyplot.show()"
      ]
    },
    {
      "cell_type": "markdown",
      "id": "c1e38779",
      "metadata": {
        "editable": false,
        "id": "c1e38779",
        "lang": "fr",
        "tags": []
      },
      "source": [
        "### Patron de code réponse à l'exercice Q1B"
      ]
    },
    {
      "cell_type": "markdown",
      "id": "6e674cf3",
      "metadata": {
        "editable": false,
        "id": "6e674cf3",
        "lang": "en",
        "tags": []
      },
      "source": [
        "### Q1B answer code template"
      ]
    },
    {
      "cell_type": "code",
      "execution_count": null,
      "id": "5fbe7ec3",
      "metadata": {
        "editable": false,
        "id": "5fbe7ec3",
        "tags": []
      },
      "outputs": [],
      "source": [
        "# TODO Q1B\n",
        "# Implémentez les équations fournies dans l'énoncé\n",
        "# pour déterminer les étiquettes de classe.\n",
        "\n",
        "def evalEM(X, y, k, init):\n",
        "    # Cette fonction prend en paramètre un jeu de données (X et y),\n",
        "    # le nombre de clusters à utiliser (k)\n",
        "    # et l'initialisation demandée ('random' ou 'kmeans').\n",
        "    # Elle retourne un tuple de 3 éléments, à savoir les scores basés sur:\n",
        "    # - L'indice de Rand ajusté\n",
        "    # - L'information mutuelle\n",
        "    # - La mesure V\n",
        "    # This function takes as input a dataset (X and y), the number of\n",
        "    # clusters (k) and the initialization mode ('random' or 'kmeans').\n",
        "    # It outputs a tuple of 3 elements, which are the scores based on:\n",
        "    # - The adjusted Rand index\n",
        "    # - The mutual information\n",
        "    # - The V measure\n",
        "\n",
        "    # N'oubliez pas que vous devez d'abord implémenter les équations fournies dans\n",
        "    # l'énoncé de la question pour déterminer les étiquettes de classe, avant\n",
        "    # d'évaluer les résultats des différentes métriques! Pour ce faire, il est\n",
        "    # recommandé d'utiliser les fonctions numpy (e.g. sum, dot) pour optimiser\n",
        "    # le temps de calcul.\n",
        "    # Don't forget that you must first implement the equations provided in the\n",
        "    # question statement to get the class labels, before evaluating the results\n",
        "    # using different metrics! To do so, it is recommanded to use the numpy functions\n",
        "    # (e.g. sum, dot) to optimize the computation time.\n",
        "\n",
        "    # TODO Q1B\n",
        "    # Mesurez les différentes métriques avec les fonctions\n",
        "    # Scikit-learn et retournez le tuple qui contient\n",
        "    # les scores.\n",
        "    # Measure the different metrics using the functions\n",
        "    # Scikit-learn and return the tuple containing the scores.\n",
        "    pass\n",
        "\n",
        "_times.append(time.time())\n",
        "pyplot.figure()\n",
        "\n",
        "# TODO Q1B\n",
        "# Évaluez ici la performance de EM en utilisant la fonction `evalEM`\n",
        "# définie plus haut, en faisant varier le nombre de clusters entre 2 et 50\n",
        "# par incrément de 2 et en utilisant une initialisation aléatoire.\n",
        "# Tracez les résultats obtenus sous forme de courbe.\n",
        "# Evaluate here the performance of EM using the function 'evalEM' defined\n",
        "# above, varying the number of clusters between 2 and 50 by increments of 2\n",
        "# and using a random initialization. Plot the results as a curve.\n",
        "\n",
        "\n",
        "pyplot.ylim([0.1, 0.8])\n",
        "_times.append(time.time())\n",
        "checkTime(TMAX_Q1B, \"1B\")\n",
        "pyplot.show()"
      ]
    },
    {
      "cell_type": "markdown",
      "id": "049fd870",
      "metadata": {
        "editable": false,
        "id": "049fd870",
        "lang": "fr"
      },
      "source": [
        "## Q1C\n",
        "Toujours en utilisant l'algorithme EM, faites varier le nombre de clusters utilisés selon $K=[2,4,\\ldots,50]$ pour une initialisation faite avec le clustering de $K$-means. Tracez les résultats dans une figure comparant la valeur des mesures de performance selon le nombre de clusters."
      ]
    },
    {
      "cell_type": "markdown",
      "id": "90d3647e",
      "metadata": {
        "editable": false,
        "id": "90d3647e",
        "lang": "en"
      },
      "source": [
        "## Q1C\n",
        "Still using the EM algorithm, vary the number of clusters used according to $K=[2,4,\\ldots,50]$ for an initialization done from a $K$-means clustering. Plot the results in a figure comparing the value of the performance metrics by the number of clusters."
      ]
    },
    {
      "cell_type": "markdown",
      "id": "3bb8f1a3",
      "metadata": {
        "editable": false,
        "id": "3bb8f1a3",
        "lang": "fr",
        "tags": []
      },
      "source": [
        "### Entrez votre solution à Q1C dans la cellule suivante, en vous basant sur le patron de code donné plus bas."
      ]
    },
    {
      "cell_type": "markdown",
      "id": "7994bf32",
      "metadata": {
        "editable": false,
        "id": "7994bf32",
        "lang": "en",
        "tags": []
      },
      "source": [
        "### Enter your answer to Q1C in the following cell, starting from the code template given below."
      ]
    },
    {
      "cell_type": "code",
      "execution_count": null,
      "id": "2e2de7de",
      "metadata": {
        "ExecuteTime": {
          "end_time": "2022-12-05T15:23:34.375913Z",
          "start_time": "2022-12-05T15:23:31.745754Z"
        },
        "deletable": false,
        "id": "2e2de7de",
        "tags": [
          "user-answer-D5Q1C",
          "editable"
        ],
        "outputId": "506a89f1-e755-47bb-dd5e-b376c5dba4bb"
      },
      "outputs": [
        {
          "data": {
            "image/png": "[encoded data removed]",
            "text/plain": [
              "<Figure size 432x288 with 1 Axes>"
            ]
          },
          "metadata": {
            "needs_background": "light"
          },
          "output_type": "display_data"
        }
      ],
      "source": [
        "_times.append(time.time())\n",
        "pyplot.figure()\n",
        "\n",
        "# *** TODO ***\n",
        "# Évaluez ici la performance de EM en utilisant la fonction `evalEM`\n",
        "# définie plus haut, en faisant varier le nombre de clusters entre 2 et 50\n",
        "# par incrément de 2 et en utilisant une initialisation par K-means.\n",
        "# Tracez les résultats obtenus sous forme de courbe.\n",
        "# Evaluate here the performance of EM using the `evalEM` function\n",
        "# defined above, varying the number of clusters between 2 and 50\n",
        "# in increments of 2 and using a K-means initialization.\n",
        "# Plot the results obtained as a curve.\n",
        "# ******\n",
        "\n",
        "n_clusters = [n for n in range(2, 51, 2)]\n",
        "Results = []\n",
        "for k in n_clusters:\n",
        "    Results.append(evalEM(X, y, k, \"kmeans\"))\n",
        "\n",
        "pyplot.plot(n_clusters, Results)\n",
        "\n",
        "_times.append(time.time())\n",
        "checkTime(TMAX_Q1C, \"1C\")\n",
        "pyplot.ylim([0.1, 0.8])\n",
        "pyplot.show()"
      ]
    },
    {
      "cell_type": "markdown",
      "id": "26648667",
      "metadata": {
        "editable": false,
        "id": "26648667",
        "lang": "fr",
        "tags": []
      },
      "source": [
        "### Patron de code réponse à l'exercice Q1C"
      ]
    },
    {
      "cell_type": "markdown",
      "id": "cdc4035b",
      "metadata": {
        "editable": false,
        "id": "cdc4035b",
        "lang": "en",
        "tags": []
      },
      "source": [
        "### Q1C answer code template"
      ]
    },
    {
      "cell_type": "code",
      "execution_count": null,
      "id": "f09e1f8d",
      "metadata": {
        "editable": false,
        "id": "f09e1f8d",
        "tags": []
      },
      "outputs": [],
      "source": [
        "_times.append(time.time())\n",
        "pyplot.figure()\n",
        "\n",
        "# *** TODO ***\n",
        "# Évaluez ici la performance de EM en utilisant la fonction `evalEM`\n",
        "# définie plus haut, en faisant varier le nombre de clusters entre 2 et 50\n",
        "# par incrément de 2 et en utilisant une initialisation par K-means.\n",
        "# Tracez les résultats obtenus sous forme de courbe.\n",
        "# Evaluate here the performance of EM using the `evalEM` function\n",
        "# defined above, varying the number of clusters between 2 and 50\n",
        "# in increments of 2 and using a K-means initialization.\n",
        "# Plot the results obtained as a curve.\n",
        "# ******\n",
        "\n",
        "_times.append(time.time())\n",
        "checkTime(TMAX_Q1C, \"1C\")\n",
        "pyplot.ylim([0.1, 0.8])\n",
        "pyplot.show()"
      ]
    },
    {
      "cell_type": "markdown",
      "id": "c1afe3f2",
      "metadata": {
        "editable": false,
        "id": "c1afe3f2",
        "lang": "fr"
      },
      "source": [
        "## Q1D\n",
        "En guise d'analyse de résultats obtenus aux trois sous-questions précédentes, répondez aux points suivants:\n",
        "1. Donnez le nombre de clusters à utiliser avec le résultat obtenu pour chacune des trois sous-questions précédentes.\n",
        "2. Expliquez pourquoi EM performe significativement mieux lorsque ses clusters sont initialisés en utilisant $K$-means.\n",
        "3. Expliquez le pic de performance à $K=2$ pour EM initialisé avec $K$-means."
      ]
    },
    {
      "cell_type": "markdown",
      "id": "126eaf2a",
      "metadata": {
        "editable": false,
        "id": "126eaf2a",
        "lang": "en"
      },
      "source": [
        "## Q1D\n",
        "To analyze results obtained from the previous three sub-questions, answer the following points:\n",
        "1. Give the number of clusters to use regarding the result obtained for each of the three previous sub-questions.\n",
        "2. Explain why EM performs significantly better when its clusters are initialized using $K$-means.\n",
        "3. Explain the peak performance at $K=2$ for EM initialized with $K$-means."
      ]
    },
    {
      "cell_type": "markdown",
      "id": "431b2ece",
      "metadata": {
        "editable": false,
        "id": "431b2ece",
        "lang": "fr",
        "tags": []
      },
      "source": [
        "### Entrez votre solution à Q1D dans la cellule ci-dessous"
      ]
    },
    {
      "cell_type": "markdown",
      "id": "abbe73d2",
      "metadata": {
        "editable": false,
        "id": "abbe73d2",
        "lang": "en",
        "tags": []
      },
      "source": [
        "### Enter your solution to Q1D in the cell below"
      ]
    },
    {
      "cell_type": "markdown",
      "id": "15faf227",
      "metadata": {
        "deletable": false,
        "id": "15faf227",
        "tags": [
          "user-answer-D5Q1D",
          "editable"
        ]
      },
      "source": [
        "1. Donnez le nombre de clusters à utiliser avec le résultat obtenu pour chacune des trois sous-questions précédentes. / Give the number of clusters to use regarding the result obtained for each of the three previous sub-questions.\n",
        "   - Q1A: 2\n",
        "   - Q1B: 2\n",
        "   - Q1C: 2\n",
        "\n",
        "2. Expliquez pourquoi EM performe significativement mieux lorsque ses clusters sont initialisés en utilisant $K$-means. / Explain why EM performs significantly better when its clusters are initialized using $K$-means.\n",
        "avec l'initialisation Kmeans, les centroides sont proches des centroides optimaux(convergence de l'algorithme), cependant pour une initilisation aléatoire les centroides peuvent etre loin des centroides optimaux ce qui implique un nombre plus grand d'itérations.\n",
        "\n",
        "3. Expliquez le pic de performance à $K=2$ pour EM initialisé avec $K$-means. / Explain the peak performance at $K=2$ for EM initialized with $K$-means.\n",
        "On peut expliquer ce pic de performance à K=2 par la distribution des données, puisqu'une donnée"
      ]
    },
    {
      "cell_type": "markdown",
      "id": "c452f1f7",
      "metadata": {
        "editable": false,
        "id": "c452f1f7",
        "lang": "fr",
        "tags": []
      },
      "source": [
        "### Patron de réponse de Q1D en format markdown\n",
        "~~~md\n",
        "1. Donnez le nombre de clusters à utiliser avec le résultat obtenu pour chacune des trois sous-questions précédentes.\n",
        "   - Q1A: ***Donnez ici le nombre de clusters à utiliser pour Q1A***\n",
        "   - Q1B: ***Donnez ici le nombre de clusters à utiliser pour Q1B***\n",
        "   - Q1C: ***Donnez ici le nombre de clusters à utiliser pour Q1C***\n",
        "\n",
        "2. Expliquez pourquoi EM performe significativement mieux lorsque ses clusters sont initialisés en utilisant $K$-means.\n",
        "***Donnez ici vos explications au point 2***\n",
        "\n",
        "3. Expliquez le pic de performance à $K=2$ pour EM initialisé avec $K$-means.\n",
        "***Donnez ici vos explications au point 3***\n",
        "~~~"
      ]
    },
    {
      "cell_type": "markdown",
      "id": "16c25deb",
      "metadata": {
        "editable": false,
        "id": "16c25deb",
        "lang": "en",
        "lines_to_next_cell": 0,
        "tags": []
      },
      "source": [
        "### Q1D Markdown answer template\n",
        "~~~md\n",
        "1. Give the number of clusters to use regarding the result obtained for each of the three previous sub-questions.\n",
        "   - Q1A: ***Give here the number of clusters to use for Q1A***\n",
        "   - Q1B: ***Give here the number of clusters to use for Q1B***\n",
        "   - Q1C: ***Give here the number of clusters to use for Q1C***\n",
        "\n",
        "2. Explain why EM performs significantly better when its clusters are initialized using $K$-means.\n",
        "***Give here your explanations to point 2***\n",
        "\n",
        "3. Explain the peak performance at $K=2$ for EM initialized with $K$-means.\n",
        "***Give here your explanations to point 3***\n",
        "~~~"
      ]
    },
    {
      "cell_type": "markdown",
      "id": "df8ce21b",
      "metadata": {
        "editable": false,
        "id": "df8ce21b"
      },
      "source": [
        "\n"
      ]
    }
  ],
  "metadata": {
    "PAX": {
      "userLang": "fr"
    },
    "celltoolbar": "",
    "jupytext": {
      "notebook_metadata_filter": "celltoolbar",
      "text_representation": {
        "extension": ".md",
        "format_name": "markdown",
        "format_version": "1.3",
        "jupytext_version": "1.13.6"
      }
    },
    "kernelspec": {
      "display_name": "Python 3 (PAX)",
      "language": "python",
      "name": "python3"
    },
    "language_info": {
      "codemirror_mode": {
        "name": "ipython",
        "version": 3
      },
      "file_extension": ".py",
      "mimetype": "text/x-python",
      "name": "python",
      "nbconvert_exporter": "python",
      "pygments_lexer": "ipython3",
      "version": "3.8.10"
    },
    "nbTranslate": {
      "displayLangs": [
        "*"
      ],
      "hotkey": "alt-t",
      "langInMainMenu": true,
      "sourceLang": "fr",
      "targetLang": "en",
      "useGoogleTranslate": true
    },
    "colab": {
      "provenance": [],
      "include_colab_link": true
    }
  },
  "nbformat": 4,
  "nbformat_minor": 5
}